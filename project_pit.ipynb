{
 "cells": [
  {
   "cell_type": "code",
   "execution_count": 4,
   "id": "6422f332-8dae-470f-bf96-0da809ccc37b",
   "metadata": {
    "tags": [],
    "ExecuteTime": {
     "end_time": "2023-11-14T19:28:24.558363Z",
     "start_time": "2023-11-14T19:28:23.518403Z"
    }
   },
   "outputs": [],
   "source": [
    "import pandas as pd\n",
    "import seaborn as sns\n",
    "import matplotlib.pyplot as plt\n",
    "import numpy as np"
   ]
  },
  {
   "cell_type": "markdown",
   "id": "c5bb4136-b8c1-45b8-a639-5c7c89db436c",
   "metadata": {},
   "source": [
    "# Warm-up"
   ]
  },
  {
   "cell_type": "code",
   "execution_count": 6,
   "id": "b002eb2d-6d7f-4850-9027-f352f88419ef",
   "metadata": {
    "tags": [],
    "ExecuteTime": {
     "end_time": "2023-11-14T19:29:03.566361Z",
     "start_time": "2023-11-14T19:28:43.931087Z"
    }
   },
   "outputs": [
    {
     "name": "stderr",
     "output_type": "stream",
     "text": [
      "/var/folders/2x/mz7t86dd72bf_xkr50l46prr0000gn/T/ipykernel_69629/3506707143.py:1: DtypeWarning: Columns (5,7) have mixed types. Specify dtype option on import or set low_memory=False.\n",
      "  df_citibike = pd.read_csv(\"files/202307-citibike-tripdata.csv\")\n"
     ]
    }
   ],
   "source": [
    "df_citibike = pd.read_csv(\"files/202307-citibike-tripdata.csv\")"
   ]
  },
  {
   "cell_type": "code",
   "execution_count": 7,
   "id": "8e8e351f-0886-43f4-a714-8817c66df4e3",
   "metadata": {
    "tags": [],
    "ExecuteTime": {
     "end_time": "2023-11-14T19:29:08.153762Z",
     "start_time": "2023-11-14T19:29:03.572482Z"
    }
   },
   "outputs": [],
   "source": [
    "df_citibike.started_at = pd.to_datetime(df_citibike.started_at)\n",
    "df_citibike.ended_at = pd.to_datetime(df_citibike.ended_at)"
   ]
  },
  {
   "cell_type": "code",
   "execution_count": 8,
   "id": "b3be0e05-f475-46ec-9e8b-8daf0ff07931",
   "metadata": {
    "tags": [],
    "ExecuteTime": {
     "end_time": "2023-11-14T19:29:08.194157Z",
     "start_time": "2023-11-14T19:29:08.030775Z"
    }
   },
   "outputs": [
    {
     "data": {
      "text/plain": "            ride_id rideable_type          started_at            ended_at  \\\n0  BC78328130CD8A16  classic_bike 2023-07-16 20:42:57 2023-07-16 20:45:13   \n1  71A4DFA231ADAEA2  classic_bike 2023-07-29 12:22:21 2023-07-29 12:26:54   \n2  B64451D0D9F52134  classic_bike 2023-07-30 18:30:18 2023-07-30 18:35:42   \n3  EEECB3E0E05EB0DB  classic_bike 2023-07-04 19:59:20 2023-07-04 20:02:03   \n4  76B706DF4FC180DC  classic_bike 2023-07-03 19:33:36 2023-07-03 19:43:59   \n\n                    start_station_name start_station_id  \\\n0          St. Nicholas Ave & W 126 St          7756.10   \n1  Adam Clayton Powell Blvd & W 118 St          7670.09   \n2          St. Nicholas Ave & W 126 St          7756.10   \n3          St. Nicholas Ave & W 126 St          7756.10   \n4          St. Nicholas Ave & W 126 St          7756.10   \n\n                      end_station_name end_station_id  start_lat  start_lng  \\\n0  Adam Clayton Powell Blvd & W 126 St        7738.04  40.811432 -73.951878   \n1  Adam Clayton Powell Blvd & W 126 St        7738.04  40.804372 -73.951475   \n2                 Lenox Ave & W 130 St        7753.13  40.811378 -73.951827   \n3  Adam Clayton Powell Blvd & W 126 St        7738.04  40.811432 -73.951878   \n4              Pleasant Ave & E 116 St        7450.05  40.811543 -73.951813   \n\n     end_lat    end_lng member_casual  \n0  40.809495 -73.947765        member  \n1  40.809495 -73.947765        member  \n2  40.810792 -73.943068        member  \n3  40.809495 -73.947765        member  \n4  40.794988 -73.933335        member  ",
      "text/html": "<div>\n<style scoped>\n    .dataframe tbody tr th:only-of-type {\n        vertical-align: middle;\n    }\n\n    .dataframe tbody tr th {\n        vertical-align: top;\n    }\n\n    .dataframe thead th {\n        text-align: right;\n    }\n</style>\n<table border=\"1\" class=\"dataframe\">\n  <thead>\n    <tr style=\"text-align: right;\">\n      <th></th>\n      <th>ride_id</th>\n      <th>rideable_type</th>\n      <th>started_at</th>\n      <th>ended_at</th>\n      <th>start_station_name</th>\n      <th>start_station_id</th>\n      <th>end_station_name</th>\n      <th>end_station_id</th>\n      <th>start_lat</th>\n      <th>start_lng</th>\n      <th>end_lat</th>\n      <th>end_lng</th>\n      <th>member_casual</th>\n    </tr>\n  </thead>\n  <tbody>\n    <tr>\n      <th>0</th>\n      <td>BC78328130CD8A16</td>\n      <td>classic_bike</td>\n      <td>2023-07-16 20:42:57</td>\n      <td>2023-07-16 20:45:13</td>\n      <td>St. Nicholas Ave &amp; W 126 St</td>\n      <td>7756.10</td>\n      <td>Adam Clayton Powell Blvd &amp; W 126 St</td>\n      <td>7738.04</td>\n      <td>40.811432</td>\n      <td>-73.951878</td>\n      <td>40.809495</td>\n      <td>-73.947765</td>\n      <td>member</td>\n    </tr>\n    <tr>\n      <th>1</th>\n      <td>71A4DFA231ADAEA2</td>\n      <td>classic_bike</td>\n      <td>2023-07-29 12:22:21</td>\n      <td>2023-07-29 12:26:54</td>\n      <td>Adam Clayton Powell Blvd &amp; W 118 St</td>\n      <td>7670.09</td>\n      <td>Adam Clayton Powell Blvd &amp; W 126 St</td>\n      <td>7738.04</td>\n      <td>40.804372</td>\n      <td>-73.951475</td>\n      <td>40.809495</td>\n      <td>-73.947765</td>\n      <td>member</td>\n    </tr>\n    <tr>\n      <th>2</th>\n      <td>B64451D0D9F52134</td>\n      <td>classic_bike</td>\n      <td>2023-07-30 18:30:18</td>\n      <td>2023-07-30 18:35:42</td>\n      <td>St. Nicholas Ave &amp; W 126 St</td>\n      <td>7756.10</td>\n      <td>Lenox Ave &amp; W 130 St</td>\n      <td>7753.13</td>\n      <td>40.811378</td>\n      <td>-73.951827</td>\n      <td>40.810792</td>\n      <td>-73.943068</td>\n      <td>member</td>\n    </tr>\n    <tr>\n      <th>3</th>\n      <td>EEECB3E0E05EB0DB</td>\n      <td>classic_bike</td>\n      <td>2023-07-04 19:59:20</td>\n      <td>2023-07-04 20:02:03</td>\n      <td>St. Nicholas Ave &amp; W 126 St</td>\n      <td>7756.10</td>\n      <td>Adam Clayton Powell Blvd &amp; W 126 St</td>\n      <td>7738.04</td>\n      <td>40.811432</td>\n      <td>-73.951878</td>\n      <td>40.809495</td>\n      <td>-73.947765</td>\n      <td>member</td>\n    </tr>\n    <tr>\n      <th>4</th>\n      <td>76B706DF4FC180DC</td>\n      <td>classic_bike</td>\n      <td>2023-07-03 19:33:36</td>\n      <td>2023-07-03 19:43:59</td>\n      <td>St. Nicholas Ave &amp; W 126 St</td>\n      <td>7756.10</td>\n      <td>Pleasant Ave &amp; E 116 St</td>\n      <td>7450.05</td>\n      <td>40.811543</td>\n      <td>-73.951813</td>\n      <td>40.794988</td>\n      <td>-73.933335</td>\n      <td>member</td>\n    </tr>\n  </tbody>\n</table>\n</div>"
     },
     "execution_count": 8,
     "metadata": {},
     "output_type": "execute_result"
    }
   ],
   "source": [
    "df_citibike.head()"
   ]
  },
  {
   "cell_type": "code",
   "execution_count": 9,
   "id": "e6e7866e-c481-497a-ae45-2420c825f427",
   "metadata": {
    "tags": [],
    "ExecuteTime": {
     "end_time": "2023-11-14T19:29:08.379005Z",
     "start_time": "2023-11-14T19:29:08.206027Z"
    }
   },
   "outputs": [
    {
     "name": "stdout",
     "output_type": "stream",
     "text": [
      "<class 'pandas.core.frame.DataFrame'>\n",
      "RangeIndex: 3776256 entries, 0 to 3776255\n",
      "Data columns (total 13 columns):\n",
      " #   Column              Dtype         \n",
      "---  ------              -----         \n",
      " 0   ride_id             object        \n",
      " 1   rideable_type       object        \n",
      " 2   started_at          datetime64[ns]\n",
      " 3   ended_at            datetime64[ns]\n",
      " 4   start_station_name  object        \n",
      " 5   start_station_id    object        \n",
      " 6   end_station_name    object        \n",
      " 7   end_station_id      object        \n",
      " 8   start_lat           float64       \n",
      " 9   start_lng           float64       \n",
      " 10  end_lat             float64       \n",
      " 11  end_lng             float64       \n",
      " 12  member_casual       object        \n",
      "dtypes: datetime64[ns](2), float64(4), object(7)\n",
      "memory usage: 374.5+ MB\n"
     ]
    }
   ],
   "source": [
    "df_citibike.info()"
   ]
  },
  {
   "cell_type": "code",
   "execution_count": 10,
   "id": "c4261490-fbf8-4be5-a1f0-2d1bc930ce25",
   "metadata": {
    "tags": [],
    "ExecuteTime": {
     "end_time": "2023-11-14T19:29:15.122526Z",
     "start_time": "2023-11-14T19:29:08.283963Z"
    }
   },
   "outputs": [],
   "source": [
    "df_citibike = df_citibike.dropna()"
   ]
  },
  {
   "cell_type": "code",
   "execution_count": 11,
   "id": "1c70f423-8703-45b8-87bb-12e99a60185e",
   "metadata": {
    "tags": [],
    "ExecuteTime": {
     "end_time": "2023-11-14T19:29:15.322957Z",
     "start_time": "2023-11-14T19:29:15.117842Z"
    }
   },
   "outputs": [],
   "source": [
    "df_citibike[\"duration\"] = (df_citibike.ended_at - df_citibike.started_at).dt.total_seconds() / 60"
   ]
  },
  {
   "cell_type": "code",
   "execution_count": 12,
   "id": "0a861022-78ff-4c96-8a06-4a79ffac2abf",
   "metadata": {
    "tags": [],
    "ExecuteTime": {
     "end_time": "2023-11-14T19:29:15.458871Z",
     "start_time": "2023-11-14T19:29:15.368068Z"
    }
   },
   "outputs": [
    {
     "data": {
      "text/plain": "0           2.266667\n1           4.550000\n2           5.400000\n3           2.716667\n4          10.383333\n             ...    \n3776251    26.650000\n3776252    28.316667\n3776253     4.450000\n3776254    10.683333\n3776255     2.566667\nName: duration, Length: 3767347, dtype: float64"
     },
     "execution_count": 12,
     "metadata": {},
     "output_type": "execute_result"
    }
   ],
   "source": [
    "df_citibike.duration"
   ]
  },
  {
   "cell_type": "code",
   "execution_count": 13,
   "id": "66a90158-5dd3-45fd-b706-f1782d195896",
   "metadata": {
    "tags": [],
    "ExecuteTime": {
     "end_time": "2023-11-14T19:29:22.180472Z",
     "start_time": "2023-11-14T19:29:15.379707Z"
    }
   },
   "outputs": [],
   "source": [
    "df_citibike = df_citibike[df_citibike.duration < 60*3]\n",
    "df_citibike = df_citibike[df_citibike.duration > 0]"
   ]
  },
  {
   "cell_type": "markdown",
   "id": "ad45c3cf-2544-4955-a810-c26153f7785f",
   "metadata": {},
   "source": [
    "## Duration Histogram"
   ]
  },
  {
   "cell_type": "code",
   "execution_count": 14,
   "id": "8d8aef2d-13e2-4a3e-975a-bf6d6e7a14a2",
   "metadata": {
    "tags": [],
    "ExecuteTime": {
     "end_time": "2023-11-14T19:29:24.150290Z",
     "start_time": "2023-11-14T19:29:22.177335Z"
    }
   },
   "outputs": [
    {
     "data": {
      "text/plain": "<Figure size 640x480 with 1 Axes>",
      "image/png": "[encoded data removed]"
     },
     "metadata": {},
     "output_type": "display_data"
    }
   ],
   "source": [
    "plt.hist(df_citibike.duration, bins=3*60)\n",
    "plt.title(\"Hist of Trip Duration\")\n",
    "plt.xlabel(\"Duration of Trip\")\n",
    "plt.ylabel(\"Number of Trips\")\n",
    "plt.show()"
   ]
  },
  {
   "cell_type": "markdown",
   "id": "ce86b889-e494-45a6-958e-efc2c25a2389",
   "metadata": {},
   "source": [
    "## Average Ride Duration, Variance, and $\\mathbb{P}$(Duration $>$ 20)"
   ]
  },
  {
   "cell_type": "code",
   "execution_count": 15,
   "id": "c59f0a5e-224b-4d17-861f-96b94fd9dd38",
   "metadata": {
    "tags": [],
    "ExecuteTime": {
     "end_time": "2023-11-14T19:29:24.290572Z",
     "start_time": "2023-11-14T19:29:24.139169Z"
    }
   },
   "outputs": [],
   "source": [
    "total = len(df_citibike)"
   ]
  },
  {
   "cell_type": "code",
   "execution_count": 16,
   "id": "a07f7980-0acd-45a6-8236-21c0846bf3d6",
   "metadata": {
    "tags": [],
    "ExecuteTime": {
     "end_time": "2023-11-14T19:29:25.049467Z",
     "start_time": "2023-11-14T19:29:24.198259Z"
    }
   },
   "outputs": [
    {
     "name": "stdout",
     "output_type": "stream",
     "text": [
      "Average Duration = 13.560221346513465\n"
     ]
    }
   ],
   "source": [
    "avg_dur = df_citibike.duration.mean()\n",
    "print(f\"Average Duration = {avg_dur}\")"
   ]
  },
  {
   "cell_type": "code",
   "execution_count": 35,
   "id": "88451aed-e654-4bea-be0c-dd8ddb2b36da",
   "metadata": {
    "tags": [],
    "ExecuteTime": {
     "end_time": "2023-11-14T19:30:24.297332Z",
     "start_time": "2023-11-14T19:30:24.101264Z"
    }
   },
   "outputs": [
    {
     "name": "stdout",
     "output_type": "stream",
     "text": [
      "Variance of Duration = 196.69836284914493\n"
     ]
    }
   ],
   "source": [
    "var_dur = df_citibike.duration.var()\n",
    "print(f\"Variance of Duration = {var_dur}\")"
   ]
  },
  {
   "cell_type": "code",
   "execution_count": 18,
   "id": "fcb6b9b0-3ce2-4103-9529-296b11752642",
   "metadata": {
    "tags": [],
    "ExecuteTime": {
     "end_time": "2023-11-14T19:29:25.177709Z",
     "start_time": "2023-11-14T19:29:24.540049Z"
    }
   },
   "outputs": [
    {
     "name": "stdout",
     "output_type": "stream",
     "text": [
      "P(duration > 20) = 0.19654085290380166\n"
     ]
    }
   ],
   "source": [
    "gt_20 = (df_citibike.duration > 20).sum()\n",
    "p_dur_20 = gt_20 / total\n",
    "print(f\"P(duration > 20) = {p_dur_20}\")"
   ]
  },
  {
   "cell_type": "markdown",
   "id": "884dc31d-f485-49ba-b4a4-4fe3de9093ae",
   "metadata": {},
   "source": [
    "## $\\mathbb{P}$(Duration > 20 | CitiBike Memeber)"
   ]
  },
  {
   "cell_type": "code",
   "execution_count": 19,
   "id": "ae4bd8ff-982b-40f5-b032-98c86aa1dd7b",
   "metadata": {
    "tags": [],
    "ExecuteTime": {
     "end_time": "2023-11-14T19:29:25.759091Z",
     "start_time": "2023-11-14T19:29:25.167652Z"
    }
   },
   "outputs": [
    {
     "name": "stdout",
     "output_type": "stream",
     "text": [
      "P(duration > 20 | CitiBike Member) = 0.1546848321918055\n"
     ]
    }
   ],
   "source": [
    "p_citibike_mem = (df_citibike.member_casual == \"member\").sum() / total\n",
    "p_cbmem_and_dur20 = ((df_citibike.member_casual == \"member\") & (df_citibike.duration > 20)).sum() / total\n",
    "p_dur20_given_citibike_mem = p_cbmem_and_dur20 / p_citibike_mem\n",
    "print(f\"P(duration > 20 | CitiBike Member) = {p_dur20_given_citibike_mem}\")"
   ]
  },
  {
   "cell_type": "markdown",
   "id": "fc0ef95e-7c60-43f4-9b3b-398770a2cdcc",
   "metadata": {},
   "source": [
    "## $\\mathbb{P}$(CitiBike Member | Duration > 25)"
   ]
  },
  {
   "cell_type": "code",
   "execution_count": 20,
   "id": "b0b7f9f2-80bb-4554-a94c-6cba7d98364a",
   "metadata": {
    "tags": [],
    "ExecuteTime": {
     "end_time": "2023-11-14T19:29:26.137769Z",
     "start_time": "2023-11-14T19:29:25.736089Z"
    }
   },
   "outputs": [
    {
     "name": "stdout",
     "output_type": "stream",
     "text": [
      "P(CitiBike Member | duration > 25) = 0.5787196676877677\n"
     ]
    }
   ],
   "source": [
    "p_dur_25 = (df_citibike.duration > 25).sum() / total\n",
    "p_cbmem_and_dur25 = ((df_citibike.member_casual == \"member\") & (df_citibike.duration > 25)).sum() / total\n",
    "p_dur25_given_citibike_mem = p_cbmem_and_dur25 / p_dur_25\n",
    "print(f\"P(CitiBike Member | duration > 25) = {p_dur25_given_citibike_mem}\")"
   ]
  },
  {
   "cell_type": "markdown",
   "id": "2ef6fe8d-2f46-422d-ae97-a33afd4e7a97",
   "metadata": {},
   "source": [
    "## Expected duration of Electric Bike vs. Classic Bike"
   ]
  },
  {
   "cell_type": "code",
   "execution_count": 21,
   "id": "6a1f497d-10b0-411e-a75e-2fad449f8daa",
   "metadata": {
    "tags": [],
    "ExecuteTime": {
     "end_time": "2023-11-14T19:29:29.484758Z",
     "start_time": "2023-11-14T19:29:26.579410Z"
    }
   },
   "outputs": [],
   "source": [
    "df_elecbike = df_citibike[df_citibike.rideable_type == \"electric_bike\"]\n",
    "df_clasbike = df_citibike[df_citibike.rideable_type == \"classic_bike\"]"
   ]
  },
  {
   "cell_type": "code",
   "execution_count": 22,
   "id": "2bb92e27-9ce1-411d-9717-b131a95538e1",
   "metadata": {
    "tags": [],
    "ExecuteTime": {
     "end_time": "2023-11-14T19:29:29.508847Z",
     "start_time": "2023-11-14T19:29:29.486491Z"
    }
   },
   "outputs": [
    {
     "name": "stdout",
     "output_type": "stream",
     "text": [
      "Expected Duration: ebike=12.280488130239785 ; classic-bike=13.63475766258535\n"
     ]
    }
   ],
   "source": [
    "avg_dur_eb = df_elecbike.duration.mean()\n",
    "avg_dur_cb = df_clasbike.duration.mean()\n",
    "print(f\"Expected Duration: ebike={avg_dur_eb} ; classic-bike={avg_dur_cb}\")"
   ]
  },
  {
   "cell_type": "markdown",
   "id": "c90ac13b-37d1-48db-8599-b8e8969a494e",
   "metadata": {},
   "source": [
    "## $\\mathbb{P}$(Electric Bike | Duration < 10) and $\\mathbb{P}$(Classic Bike | Duration < 10)"
   ]
  },
  {
   "cell_type": "code",
   "execution_count": 23,
   "id": "0c7d4ede-4725-4d97-a06b-c2d98a693b1c",
   "metadata": {
    "tags": [],
    "ExecuteTime": {
     "end_time": "2023-11-14T19:29:30.231995Z",
     "start_time": "2023-11-14T19:29:29.490148Z"
    }
   },
   "outputs": [
    {
     "name": "stdout",
     "output_type": "stream",
     "text": [
      "P(E-bike | duration < 10)=0.08921668362156664\n",
      "P(classic-bike | duration < 10)=0.9101774950274062\n"
     ]
    }
   ],
   "source": [
    "p_d10 = (df_citibike.duration < 10).sum() / total\n",
    "p_eb_and_d10 = ((df_citibike.rideable_type == \"electric_bike\") & (df_citibike.duration < 10)).sum() / total\n",
    "p_cb_and_d10 = ((df_citibike.rideable_type == \"classic_bike\") & (df_citibike.duration < 10)).sum() / total\n",
    "p_eb_given_d10 = p_eb_and_d10 / p_d10\n",
    "p_cb_given_d10 = p_cb_and_d10 / p_d10\n",
    "print(f\"P(E-bike | duration < 10)={p_eb_given_d10}\\nP(classic-bike | duration < 10)={p_cb_given_d10}\")"
   ]
  },
  {
   "cell_type": "code",
   "execution_count": 24,
   "id": "3b8e8f83-9116-42d7-bb50-ad489de05d60",
   "metadata": {
    "tags": [],
    "ExecuteTime": {
     "end_time": "2023-11-14T19:29:31.962047Z",
     "start_time": "2023-11-14T19:29:30.092504Z"
    }
   },
   "outputs": [],
   "source": [
    "df_start = df_citibike.groupby([\"start_station_id\", \"start_station_name\"]).ride_id.count().sort_values(ascending=False)"
   ]
  },
  {
   "cell_type": "code",
   "execution_count": 25,
   "id": "25587ca9-2a20-4c63-91f3-e85c7d5a3939",
   "metadata": {
    "tags": [],
    "ExecuteTime": {
     "end_time": "2023-11-14T19:29:32.028980Z",
     "start_time": "2023-11-14T19:29:31.959553Z"
    }
   },
   "outputs": [
    {
     "data": {
      "text/plain": "start_station_id  start_station_name         \n6140.05           W 21 St & 6 Ave                12453\n5329.03           West St & Chambers St          12361\n6948.10           Broadway & W 58 St             11097\n6726.01           11 Ave & W 41 St               10559\n6364.07           6 Ave & W 33 St                10130\n6765.01           12 Ave & W 40 St               10015\n6157.04           10 Ave & W 14 St                9999\n5184.08           West St & Liberty St            9752\n5905.14           University Pl & E 14 St         9682\n6912.01           7 Ave & Central Park South      9656\n6822.09           1 Ave & E 68 St                 9631\n5980.07           E 17 St & Broadway              9308\n6173.08           Broadway & W 25 St              8960\n6459.07           W 30 St & 10 Ave                8929\n5696.03           Pier 40 - Hudson River Park     8904\n5905.12           Broadway & E 14 St              8686\n5492.05           Cleveland Pl & Spring St        8682\n6331.01           W 31 St & 7 Ave                 8632\n6197.08           E 33 St & 1 Ave                 8573\n6450.12           8 Ave & W 33 St                 8553\n6072.11           8 Ave & W 16 St                 8157\n6535.04           W 34 St & Hudson Blvd E         8116\n5779.11           Ave A & E 14 St                 8112\n5303.08           Canal St & Rutgers St           8086\n6432.11           E 40 St & Park Ave              8059\nName: ride_id, dtype: int64"
     },
     "execution_count": 25,
     "metadata": {},
     "output_type": "execute_result"
    }
   ],
   "source": [
    "df_start.head(25)"
   ]
  },
  {
   "cell_type": "code",
   "execution_count": 26,
   "id": "c19070b9-7dd4-4b94-ab79-d2bfd6622e91",
   "metadata": {
    "tags": [],
    "ExecuteTime": {
     "end_time": "2023-11-14T19:29:33.323714Z",
     "start_time": "2023-11-14T19:29:32.395595Z"
    }
   },
   "outputs": [],
   "source": [
    "df_end = df_citibike.groupby([\"end_station_id\", \"end_station_name\"]).ride_id.count().sort_values(ascending=False)"
   ]
  },
  {
   "cell_type": "code",
   "execution_count": 27,
   "id": "a8376a39-2f9f-469e-885e-66e9c991e70a",
   "metadata": {
    "tags": [],
    "ExecuteTime": {
     "end_time": "2023-11-14T19:29:33.339447Z",
     "start_time": "2023-11-14T19:29:33.321166Z"
    }
   },
   "outputs": [
    {
     "data": {
      "text/plain": "end_station_id  end_station_name           \n6140.05         W 21 St & 6 Ave                13658\n6948.10         Broadway & W 58 St             12028\n6726.01         11 Ave & W 41 St               11967\n6912.01         7 Ave & Central Park South     11391\n6364.07         6 Ave & W 33 St                11091\n6765.01         12 Ave & W 40 St               10899\n5905.14         University Pl & E 14 St        10548\n6822.09         1 Ave & E 68 St                10403\n5980.07         E 17 St & Broadway             10242\n6459.07         W 30 St & 10 Ave               10003\n5905.12         Broadway & E 14 St              9642\n5492.05         Cleveland Pl & Spring St        9588\n6331.01         W 31 St & 7 Ave                 9576\n6197.08         E 33 St & 1 Ave                 9527\n6535.04         W 34 St & Hudson Blvd E         9090\n6450.12         8 Ave & W 33 St                 9079\n5696.03         Pier 40 - Hudson River Park     8995\n5788.13         Lafayette St & E 8 St           8929\n6432.11         E 40 St & Park Ave              8853\n5779.11         Ave A & E 14 St                 8784\n5303.08         Canal St & Rutgers St           8765\n6526.05         8 Ave & W 38 St                 8726\n6266.06         9 Ave & W 22 St                 8682\n5184.08         West St & Liberty St            8628\n6072.11         8 Ave & W 16 St                 8607\nName: ride_id, dtype: int64"
     },
     "execution_count": 27,
     "metadata": {},
     "output_type": "execute_result"
    }
   ],
   "source": [
    "df_end.head(25)"
   ]
  },
  {
   "cell_type": "markdown",
   "id": "a7354ccd-51fa-4f3f-836f-7b77c617b050",
   "metadata": {},
   "source": [
    "6948.10           Broadway & W 58 St             11097\n",
    "5184.08           West St & Liberty St            9752\n",
    "5696.03         Pier 40 - Hudson River Park     8995"
   ]
  },
  {
   "cell_type": "markdown",
   "source": [
    "# STATIONS ANALYSIS"
   ],
   "metadata": {
    "collapsed": false
   },
   "id": "acf221029a8f9a2f"
  },
  {
   "cell_type": "code",
   "execution_count": 109,
   "id": "bd95c20b-85b1-452c-b866-28916116728e",
   "metadata": {
    "tags": [],
    "ExecuteTime": {
     "end_time": "2023-11-14T20:17:15.319727Z",
     "start_time": "2023-11-14T20:17:15.310962Z"
    }
   },
   "outputs": [],
   "source": [
    "station_1_id = \"6948.10\"\n",
    "station_2_id = \"5184.08\"\n",
    "station_3_id = \"5696.03\"\n",
    "station_ids = [station_1_id, station_2_id, station_3_id]\n",
    "station_map = {'5184.08': {\"station_name\": 'West St & Liberty St', \"dock_size\": 34},\n",
    "               '5696.03': {\"station_name\": 'Pier 40 - Hudson River Park', \"dock_size\": 19},\n",
    "               '6948.10': {\"station_name\": 'Broadway & W 58 St', \"dock_size\": 53}\n",
    "               }"
   ]
  },
  {
   "cell_type": "code",
   "execution_count": 56,
   "outputs": [],
   "source": [
    "mask_st = df_citibike.start_station_id.isin([station_1_id, station_2_id, station_3_id])\n",
    "mask_end = df_citibike.end_station_id.isin([station_1_id, station_2_id, station_3_id])\n",
    "df_stations = df_citibike[mask_st | mask_end].reset_index(drop=True)"
   ],
   "metadata": {
    "collapsed": false,
    "ExecuteTime": {
     "end_time": "2023-11-14T19:42:00.708502Z",
     "start_time": "2023-11-14T19:41:59.686859Z"
    }
   },
   "id": "323353b6d0f44668"
  },
  {
   "cell_type": "code",
   "execution_count": 59,
   "outputs": [],
   "source": [
    "df_stations[\"weekday\"] = df_stations[\"started_at\"].dt.dayofweek\n",
    "\n",
    "# Exclude the weekends\n",
    "df_stations = df_stations[df_stations.weekday < 5]"
   ],
   "metadata": {
    "collapsed": false,
    "ExecuteTime": {
     "end_time": "2023-11-14T19:42:23.881328Z",
     "start_time": "2023-11-14T19:42:23.795859Z"
    }
   },
   "id": "91b159114e64ac16"
  },
  {
   "cell_type": "code",
   "execution_count": 86,
   "outputs": [],
   "source": [
    "# Extract the time part\n",
    "df_stations['end_time'] = df_stations['ended_at'].dt.time\n",
    "# Convert time to minutes since midnight\n",
    "df_stations['minutes_since_midnight'] = df_stations['ended_at'].dt.hour * 60 + df_stations['ended_at'].dt.minute\n",
    "# Round down to the nearest 5 minutes\n",
    "df_stations['rounded_minutes'] = df_stations['minutes_since_midnight'] // 5 * 5\n",
    "df_stations['interval_of_trip'] = df_stations['rounded_minutes'] / 5"
   ],
   "metadata": {
    "collapsed": false,
    "ExecuteTime": {
     "end_time": "2023-11-14T19:54:50.546729Z",
     "start_time": "2023-11-14T19:54:50.510158Z"
    }
   },
   "id": "908870df091727a"
  },
  {
   "cell_type": "code",
   "execution_count": 87,
   "outputs": [
    {
     "data": {
      "text/plain": "                ride_id rideable_type          started_at            ended_at  \\\n0      D885F77723C75623  classic_bike 2023-07-11 19:11:32 2023-07-11 19:17:07   \n1      6F662CC1D61C7D14  classic_bike 2023-07-07 07:26:31 2023-07-07 07:29:46   \n2      783552ECABCB36BC  classic_bike 2023-07-12 08:09:08 2023-07-12 08:23:59   \n4      0113D2FBD4E513F7  classic_bike 2023-07-04 13:04:56 2023-07-04 13:27:59   \n5      39DEEDF03DFA35E7  classic_bike 2023-07-18 21:18:27 2023-07-18 21:25:56   \n...                 ...           ...                 ...                 ...   \n56637  B1555CECAC7C46E3  classic_bike 2023-07-25 18:46:05 2023-07-25 19:05:52   \n56638  FCF46C007E648E58  classic_bike 2023-07-28 11:52:45 2023-07-28 11:57:52   \n56641  05110D4F6A106C0A  classic_bike 2023-07-17 14:37:48 2023-07-17 14:39:55   \n56643  F5DD1B4AA4244F09  classic_bike 2023-07-24 07:33:07 2023-07-24 07:35:41   \n56645  1F3126FA006825D9  classic_bike 2023-07-25 06:50:47 2023-07-25 06:53:50   \n\n                start_station_name start_station_id          end_station_name  \\\n0      Pier 40 - Hudson River Park          5696.03  Greenwich St & Hubert St   \n1      Pier 40 - Hudson River Park          5696.03  Greenwich St & Hubert St   \n2      Pier 40 - Hudson River Park          5696.03   Lafayette St & Grand St   \n4      Pier 40 - Hudson River Park          5696.03           W 54 St & 9 Ave   \n5      Pier 40 - Hudson River Park          5696.03          W 20 St & 10 Ave   \n...                            ...              ...                       ...   \n56637         West St & Liberty St          5184.08       W 12 St & Hudson St   \n56638         West St & Liberty St          5184.08      Duane St & Hudson St   \n56641         West St & Liberty St          5184.08     Liberty St & Broadway   \n56643         West St & Liberty St          5184.08     Liberty St & Broadway   \n56645         West St & Liberty St          5184.08     Liberty St & Broadway   \n\n      end_station_id  start_lat  start_lng    end_lat    end_lng  \\\n0            5470.10  40.727714 -74.011296  40.721319 -74.010065   \n1            5470.10  40.728049 -74.011219  40.721319 -74.010065   \n2            5422.09  40.727714 -74.011296  40.720280 -73.998790   \n4            6920.03  40.727714 -74.011296  40.765849 -73.986905   \n5            6306.01  40.727714 -74.011296  40.745686 -74.005141   \n...              ...        ...        ...        ...        ...   \n56637        5997.10  40.711444 -74.014847  40.737530 -74.005589   \n56638        5359.12  40.711586 -74.014887  40.717030 -74.009250   \n56641        5105.01  40.711483 -74.014827  40.709056 -74.010434   \n56643        5105.01  40.711444 -74.014847  40.709056 -74.010434   \n56645        5105.01  40.711444 -74.014847  40.709056 -74.010434   \n\n      member_casual   duration  weekday       interval_5min  end_time  \\\n0            member   5.583333        1 2023-07-11 19:15:00  19:17:07   \n1            casual   3.250000        4 2023-07-07 07:25:00  07:29:46   \n2            member  14.850000        2 2023-07-12 08:20:00  08:23:59   \n4            casual  23.050000        1 2023-07-04 13:25:00  13:27:59   \n5            member   7.483333        1 2023-07-18 21:25:00  21:25:56   \n...             ...        ...      ...                 ...       ...   \n56637        casual  19.783333        1 2023-07-25 19:05:00  19:05:52   \n56638        casual   5.116667        4 2023-07-28 11:55:00  11:57:52   \n56641        member   2.116667        0 2023-07-17 14:35:00  14:39:55   \n56643        member   2.566667        0 2023-07-24 07:35:00  07:35:41   \n56645        member   3.050000        1 2023-07-25 06:50:00  06:53:50   \n\n       minutes_since_midnight  rounded_minutes  interval_of_trip  \n0                        1157             1155             231.0  \n1                         449              445              89.0  \n2                         503              500             100.0  \n4                         807              805             161.0  \n5                        1285             1285             257.0  \n...                       ...              ...               ...  \n56637                    1145             1145             229.0  \n56638                     717              715             143.0  \n56641                     879              875             175.0  \n56643                     455              455              91.0  \n56645                     413              410              82.0  \n\n[38292 rows x 20 columns]",
      "text/html": "<div>\n<style scoped>\n    .dataframe tbody tr th:only-of-type {\n        vertical-align: middle;\n    }\n\n    .dataframe tbody tr th {\n        vertical-align: top;\n    }\n\n    .dataframe thead th {\n        text-align: right;\n    }\n</style>\n<table border=\"1\" class=\"dataframe\">\n  <thead>\n    <tr style=\"text-align: right;\">\n      <th></th>\n      <th>ride_id</th>\n      <th>rideable_type</th>\n      <th>started_at</th>\n      <th>ended_at</th>\n      <th>start_station_name</th>\n      <th>start_station_id</th>\n      <th>end_station_name</th>\n      <th>end_station_id</th>\n      <th>start_lat</th>\n      <th>start_lng</th>\n      <th>end_lat</th>\n      <th>end_lng</th>\n      <th>member_casual</th>\n      <th>duration</th>\n      <th>weekday</th>\n      <th>interval_5min</th>\n      <th>end_time</th>\n      <th>minutes_since_midnight</th>\n      <th>rounded_minutes</th>\n      <th>interval_of_trip</th>\n    </tr>\n  </thead>\n  <tbody>\n    <tr>\n      <th>0</th>\n      <td>D885F77723C75623</td>\n      <td>classic_bike</td>\n      <td>2023-07-11 19:11:32</td>\n      <td>2023-07-11 19:17:07</td>\n      <td>Pier 40 - Hudson River Park</td>\n      <td>5696.03</td>\n      <td>Greenwich St &amp; Hubert St</td>\n      <td>5470.10</td>\n      <td>40.727714</td>\n      <td>-74.011296</td>\n      <td>40.721319</td>\n      <td>-74.010065</td>\n      <td>member</td>\n      <td>5.583333</td>\n      <td>1</td>\n      <td>2023-07-11 19:15:00</td>\n      <td>19:17:07</td>\n      <td>1157</td>\n      <td>1155</td>\n      <td>231.0</td>\n    </tr>\n    <tr>\n      <th>1</th>\n      <td>6F662CC1D61C7D14</td>\n      <td>classic_bike</td>\n      <td>2023-07-07 07:26:31</td>\n      <td>2023-07-07 07:29:46</td>\n      <td>Pier 40 - Hudson River Park</td>\n      <td>5696.03</td>\n      <td>Greenwich St &amp; Hubert St</td>\n      <td>5470.10</td>\n      <td>40.728049</td>\n      <td>-74.011219</td>\n      <td>40.721319</td>\n      <td>-74.010065</td>\n      <td>casual</td>\n      <td>3.250000</td>\n      <td>4</td>\n      <td>2023-07-07 07:25:00</td>\n      <td>07:29:46</td>\n      <td>449</td>\n      <td>445</td>\n      <td>89.0</td>\n    </tr>\n    <tr>\n      <th>2</th>\n      <td>783552ECABCB36BC</td>\n      <td>classic_bike</td>\n      <td>2023-07-12 08:09:08</td>\n      <td>2023-07-12 08:23:59</td>\n      <td>Pier 40 - Hudson River Park</td>\n      <td>5696.03</td>\n      <td>Lafayette St &amp; Grand St</td>\n      <td>5422.09</td>\n      <td>40.727714</td>\n      <td>-74.011296</td>\n      <td>40.720280</td>\n      <td>-73.998790</td>\n      <td>member</td>\n      <td>14.850000</td>\n      <td>2</td>\n      <td>2023-07-12 08:20:00</td>\n      <td>08:23:59</td>\n      <td>503</td>\n      <td>500</td>\n      <td>100.0</td>\n    </tr>\n    <tr>\n      <th>4</th>\n      <td>0113D2FBD4E513F7</td>\n      <td>classic_bike</td>\n      <td>2023-07-04 13:04:56</td>\n      <td>2023-07-04 13:27:59</td>\n      <td>Pier 40 - Hudson River Park</td>\n      <td>5696.03</td>\n      <td>W 54 St &amp; 9 Ave</td>\n      <td>6920.03</td>\n      <td>40.727714</td>\n      <td>-74.011296</td>\n      <td>40.765849</td>\n      <td>-73.986905</td>\n      <td>casual</td>\n      <td>23.050000</td>\n      <td>1</td>\n      <td>2023-07-04 13:25:00</td>\n      <td>13:27:59</td>\n      <td>807</td>\n      <td>805</td>\n      <td>161.0</td>\n    </tr>\n    <tr>\n      <th>5</th>\n      <td>39DEEDF03DFA35E7</td>\n      <td>classic_bike</td>\n      <td>2023-07-18 21:18:27</td>\n      <td>2023-07-18 21:25:56</td>\n      <td>Pier 40 - Hudson River Park</td>\n      <td>5696.03</td>\n      <td>W 20 St &amp; 10 Ave</td>\n      <td>6306.01</td>\n      <td>40.727714</td>\n      <td>-74.011296</td>\n      <td>40.745686</td>\n      <td>-74.005141</td>\n      <td>member</td>\n      <td>7.483333</td>\n      <td>1</td>\n      <td>2023-07-18 21:25:00</td>\n      <td>21:25:56</td>\n      <td>1285</td>\n      <td>1285</td>\n      <td>257.0</td>\n    </tr>\n    <tr>\n      <th>...</th>\n      <td>...</td>\n      <td>...</td>\n      <td>...</td>\n      <td>...</td>\n      <td>...</td>\n      <td>...</td>\n      <td>...</td>\n      <td>...</td>\n      <td>...</td>\n      <td>...</td>\n      <td>...</td>\n      <td>...</td>\n      <td>...</td>\n      <td>...</td>\n      <td>...</td>\n      <td>...</td>\n      <td>...</td>\n      <td>...</td>\n      <td>...</td>\n      <td>...</td>\n    </tr>\n    <tr>\n      <th>56637</th>\n      <td>B1555CECAC7C46E3</td>\n      <td>classic_bike</td>\n      <td>2023-07-25 18:46:05</td>\n      <td>2023-07-25 19:05:52</td>\n      <td>West St &amp; Liberty St</td>\n      <td>5184.08</td>\n      <td>W 12 St &amp; Hudson St</td>\n      <td>5997.10</td>\n      <td>40.711444</td>\n      <td>-74.014847</td>\n      <td>40.737530</td>\n      <td>-74.005589</td>\n      <td>casual</td>\n      <td>19.783333</td>\n      <td>1</td>\n      <td>2023-07-25 19:05:00</td>\n      <td>19:05:52</td>\n      <td>1145</td>\n      <td>1145</td>\n      <td>229.0</td>\n    </tr>\n    <tr>\n      <th>56638</th>\n      <td>FCF46C007E648E58</td>\n      <td>classic_bike</td>\n      <td>2023-07-28 11:52:45</td>\n      <td>2023-07-28 11:57:52</td>\n      <td>West St &amp; Liberty St</td>\n      <td>5184.08</td>\n      <td>Duane St &amp; Hudson St</td>\n      <td>5359.12</td>\n      <td>40.711586</td>\n      <td>-74.014887</td>\n      <td>40.717030</td>\n      <td>-74.009250</td>\n      <td>casual</td>\n      <td>5.116667</td>\n      <td>4</td>\n      <td>2023-07-28 11:55:00</td>\n      <td>11:57:52</td>\n      <td>717</td>\n      <td>715</td>\n      <td>143.0</td>\n    </tr>\n    <tr>\n      <th>56641</th>\n      <td>05110D4F6A106C0A</td>\n      <td>classic_bike</td>\n      <td>2023-07-17 14:37:48</td>\n      <td>2023-07-17 14:39:55</td>\n      <td>West St &amp; Liberty St</td>\n      <td>5184.08</td>\n      <td>Liberty St &amp; Broadway</td>\n      <td>5105.01</td>\n      <td>40.711483</td>\n      <td>-74.014827</td>\n      <td>40.709056</td>\n      <td>-74.010434</td>\n      <td>member</td>\n      <td>2.116667</td>\n      <td>0</td>\n      <td>2023-07-17 14:35:00</td>\n      <td>14:39:55</td>\n      <td>879</td>\n      <td>875</td>\n      <td>175.0</td>\n    </tr>\n    <tr>\n      <th>56643</th>\n      <td>F5DD1B4AA4244F09</td>\n      <td>classic_bike</td>\n      <td>2023-07-24 07:33:07</td>\n      <td>2023-07-24 07:35:41</td>\n      <td>West St &amp; Liberty St</td>\n      <td>5184.08</td>\n      <td>Liberty St &amp; Broadway</td>\n      <td>5105.01</td>\n      <td>40.711444</td>\n      <td>-74.014847</td>\n      <td>40.709056</td>\n      <td>-74.010434</td>\n      <td>member</td>\n      <td>2.566667</td>\n      <td>0</td>\n      <td>2023-07-24 07:35:00</td>\n      <td>07:35:41</td>\n      <td>455</td>\n      <td>455</td>\n      <td>91.0</td>\n    </tr>\n    <tr>\n      <th>56645</th>\n      <td>1F3126FA006825D9</td>\n      <td>classic_bike</td>\n      <td>2023-07-25 06:50:47</td>\n      <td>2023-07-25 06:53:50</td>\n      <td>West St &amp; Liberty St</td>\n      <td>5184.08</td>\n      <td>Liberty St &amp; Broadway</td>\n      <td>5105.01</td>\n      <td>40.711444</td>\n      <td>-74.014847</td>\n      <td>40.709056</td>\n      <td>-74.010434</td>\n      <td>member</td>\n      <td>3.050000</td>\n      <td>1</td>\n      <td>2023-07-25 06:50:00</td>\n      <td>06:53:50</td>\n      <td>413</td>\n      <td>410</td>\n      <td>82.0</td>\n    </tr>\n  </tbody>\n</table>\n<p>38292 rows × 20 columns</p>\n</div>"
     },
     "execution_count": 87,
     "metadata": {},
     "output_type": "execute_result"
    }
   ],
   "source": [
    "df_stations"
   ],
   "metadata": {
    "collapsed": false,
    "ExecuteTime": {
     "end_time": "2023-11-14T19:54:52.352596Z",
     "start_time": "2023-11-14T19:54:52.083782Z"
    }
   },
   "id": "59e6271d5a31b86b"
  },
  {
   "cell_type": "code",
   "execution_count": 111,
   "outputs": [
    {
     "data": {
      "text/plain": "<Figure size 640x480 with 1 Axes>",
      "image/png": "[encoded data removed]"
     },
     "metadata": {},
     "output_type": "display_data"
    },
    {
     "data": {
      "text/plain": "<Figure size 640x480 with 1 Axes>",
      "image/png": "[encoded data removed]"
     },
     "metadata": {},
     "output_type": "display_data"
    },
    {
     "data": {
      "text/plain": "<Figure size 640x480 with 1 Axes>",
      "image/png": "[encoded data removed]"
     },
     "metadata": {},
     "output_type": "display_data"
    }
   ],
   "source": [
    "for station_id in station_ids:\n",
    "    # Create masks for trips that start or end at the current station\n",
    "    mask_st = df_stations['start_station_id'] == station_id\n",
    "    mask_end = df_stations['end_station_id'] == station_id\n",
    "\n",
    "    # Filter the DataFrame\n",
    "    filtered_df = df_stations[mask_st | mask_end]\n",
    "\n",
    "    # Plot histogram\n",
    "    plt.figure()  # Create a new figure\n",
    "    plt.hist(filtered_df['interval_of_trip'], bins=288)\n",
    "    plt.title(f\"\"\"Histogram of Trip Intervals for {station_map[station_id].get(\"station_name\")}\"\"\")\n",
    "    plt.xlabel('Interval of Trip')\n",
    "    plt.ylabel('Count')\n",
    "    plt.show()"
   ],
   "metadata": {
    "collapsed": false,
    "ExecuteTime": {
     "end_time": "2023-11-14T20:17:56.691887Z",
     "start_time": "2023-11-14T20:17:53.524313Z"
    }
   },
   "id": "2103e0060191247b"
  },
  {
   "cell_type": "code",
   "execution_count": 80,
   "id": "fa69c82c-cc71-48c7-876f-ab362dbc0f5d",
   "metadata": {
    "tags": [],
    "ExecuteTime": {
     "end_time": "2023-11-14T19:52:29.086537Z",
     "start_time": "2023-11-14T19:52:29.011012Z"
    }
   },
   "outputs": [],
   "source": [
    "mask_1_st = (df_stations.start_station_id == station_1_id)\n",
    "mask_1_end = (df_stations.end_station_id == station_1_id)\n",
    "df_s1 = df_stations[mask_1_st | mask_1_end]"
   ]
  },
  {
   "cell_type": "code",
   "execution_count": 61,
   "id": "253e7075-8957-4c81-8309-f990b515cfc6",
   "metadata": {
    "tags": [],
    "ExecuteTime": {
     "end_time": "2023-11-14T19:42:25.661480Z",
     "start_time": "2023-11-14T19:42:25.653153Z"
    }
   },
   "outputs": [
    {
     "data": {
      "text/plain": "15104"
     },
     "execution_count": 61,
     "metadata": {},
     "output_type": "execute_result"
    }
   ],
   "source": [
    "len(df_s1)"
   ]
  },
  {
   "cell_type": "code",
   "execution_count": 62,
   "id": "9de348a1-831b-4459-88fd-7ef8cfbd966d",
   "metadata": {
    "tags": [],
    "ExecuteTime": {
     "end_time": "2023-11-14T19:42:26.717463Z",
     "start_time": "2023-11-14T19:42:26.548029Z"
    }
   },
   "outputs": [],
   "source": [
    "mask_2_st = (df_stations.start_station_id == station_2_id)\n",
    "mask_2_end = (df_stations.end_station_id == station_2_id)\n",
    "df_s2 = df_stations[mask_2_st | mask_2_end]"
   ]
  },
  {
   "cell_type": "code",
   "execution_count": 63,
   "id": "42a4cc81-c2af-428b-9b3d-baf1d947843a",
   "metadata": {
    "tags": [],
    "ExecuteTime": {
     "end_time": "2023-11-14T19:42:26.866489Z",
     "start_time": "2023-11-14T19:42:26.832899Z"
    }
   },
   "outputs": [
    {
     "data": {
      "text/plain": "12032"
     },
     "execution_count": 63,
     "metadata": {},
     "output_type": "execute_result"
    }
   ],
   "source": [
    "len(df_s2)"
   ]
  },
  {
   "cell_type": "code",
   "execution_count": 64,
   "id": "87ba2376-b605-44ea-9b12-2c5e0cf13f0e",
   "metadata": {
    "tags": [],
    "ExecuteTime": {
     "end_time": "2023-11-14T19:42:27.189662Z",
     "start_time": "2023-11-14T19:42:27.152199Z"
    }
   },
   "outputs": [],
   "source": [
    "mask_3_st = (df_stations.start_station_id == station_3_id)\n",
    "mask_3_end = (df_stations.end_station_id == station_3_id)\n",
    "df_s3 = df_stations[mask_3_st | mask_3_end]"
   ]
  },
  {
   "cell_type": "code",
   "execution_count": 65,
   "id": "888904a9-eede-4975-999f-e3dafec20db8",
   "metadata": {
    "tags": [],
    "ExecuteTime": {
     "end_time": "2023-11-14T19:42:27.889935Z",
     "start_time": "2023-11-14T19:42:27.859376Z"
    }
   },
   "outputs": [
    {
     "data": {
      "text/plain": "11533"
     },
     "execution_count": 65,
     "metadata": {},
     "output_type": "execute_result"
    }
   ],
   "source": [
    "len(df_s3)"
   ]
  },
  {
   "cell_type": "markdown",
   "id": "614a9b46-9403-48a1-9627-458718dfeb4c",
   "metadata": {},
   "source": [
    "Todo Next:\n",
    "- Remove Weekends: DONE\n",
    "- Split morining and evening: TO VALIDATE BUT DONE\n",
    "- Discretize 5 mins: DONE\n",
    "- figure out capacity for our stations: DONE"
   ]
  },
  {
   "cell_type": "markdown",
   "id": "07af2127-b21d-4a0f-a583-4023afd3337b",
   "metadata": {},
   "source": [
    "Todo after:\n",
    "- Count within each 5 min period diff of arriving and leaving bikes\n",
    "- \n"
   ]
  },
  {
   "cell_type": "markdown",
   "source": [
    "df_stations: allows us to make operations only on row of interest"
   ],
   "metadata": {
    "collapsed": false
   },
   "id": "3a1871d74d594c6a"
  },
  {
   "cell_type": "code",
   "execution_count": 52,
   "outputs": [],
   "source": [
    "df_stations[\"weekday\"] = df_stations[\"started_at\"].dt.dayofweek\n",
    "\n",
    "# Exclude the weekends\n",
    "df_stations = df_stations[df_stations.weekday < 5]\n"
   ],
   "metadata": {
    "collapsed": false,
    "ExecuteTime": {
     "end_time": "2023-11-14T19:40:23.764438Z",
     "start_time": "2023-11-14T19:40:23.613347Z"
    }
   },
   "id": "f94d2e8098fbe87a"
  },
  {
   "cell_type": "code",
   "execution_count": 74,
   "outputs": [],
   "source": [
    "# Discretize into 5-minute intervals\n",
    "df_stations['interval_5min'] = df_stations['ended_at'].dt.floor('5T')"
   ],
   "metadata": {
    "collapsed": false,
    "ExecuteTime": {
     "end_time": "2023-11-14T19:46:27.159124Z",
     "start_time": "2023-11-14T19:46:27.153400Z"
    }
   },
   "id": "73d55401f0dc6190"
  },
  {
   "cell_type": "code",
   "execution_count": 75,
   "outputs": [
    {
     "data": {
      "text/plain": "                ride_id rideable_type          started_at            ended_at  \\\n0      D885F77723C75623  classic_bike 2023-07-11 19:11:32 2023-07-11 19:17:07   \n1      6F662CC1D61C7D14  classic_bike 2023-07-07 07:26:31 2023-07-07 07:29:46   \n2      783552ECABCB36BC  classic_bike 2023-07-12 08:09:08 2023-07-12 08:23:59   \n4      0113D2FBD4E513F7  classic_bike 2023-07-04 13:04:56 2023-07-04 13:27:59   \n5      39DEEDF03DFA35E7  classic_bike 2023-07-18 21:18:27 2023-07-18 21:25:56   \n...                 ...           ...                 ...                 ...   \n56637  B1555CECAC7C46E3  classic_bike 2023-07-25 18:46:05 2023-07-25 19:05:52   \n56638  FCF46C007E648E58  classic_bike 2023-07-28 11:52:45 2023-07-28 11:57:52   \n56641  05110D4F6A106C0A  classic_bike 2023-07-17 14:37:48 2023-07-17 14:39:55   \n56643  F5DD1B4AA4244F09  classic_bike 2023-07-24 07:33:07 2023-07-24 07:35:41   \n56645  1F3126FA006825D9  classic_bike 2023-07-25 06:50:47 2023-07-25 06:53:50   \n\n                start_station_name start_station_id          end_station_name  \\\n0      Pier 40 - Hudson River Park          5696.03  Greenwich St & Hubert St   \n1      Pier 40 - Hudson River Park          5696.03  Greenwich St & Hubert St   \n2      Pier 40 - Hudson River Park          5696.03   Lafayette St & Grand St   \n4      Pier 40 - Hudson River Park          5696.03           W 54 St & 9 Ave   \n5      Pier 40 - Hudson River Park          5696.03          W 20 St & 10 Ave   \n...                            ...              ...                       ...   \n56637         West St & Liberty St          5184.08       W 12 St & Hudson St   \n56638         West St & Liberty St          5184.08      Duane St & Hudson St   \n56641         West St & Liberty St          5184.08     Liberty St & Broadway   \n56643         West St & Liberty St          5184.08     Liberty St & Broadway   \n56645         West St & Liberty St          5184.08     Liberty St & Broadway   \n\n      end_station_id  start_lat  start_lng    end_lat    end_lng  \\\n0            5470.10  40.727714 -74.011296  40.721319 -74.010065   \n1            5470.10  40.728049 -74.011219  40.721319 -74.010065   \n2            5422.09  40.727714 -74.011296  40.720280 -73.998790   \n4            6920.03  40.727714 -74.011296  40.765849 -73.986905   \n5            6306.01  40.727714 -74.011296  40.745686 -74.005141   \n...              ...        ...        ...        ...        ...   \n56637        5997.10  40.711444 -74.014847  40.737530 -74.005589   \n56638        5359.12  40.711586 -74.014887  40.717030 -74.009250   \n56641        5105.01  40.711483 -74.014827  40.709056 -74.010434   \n56643        5105.01  40.711444 -74.014847  40.709056 -74.010434   \n56645        5105.01  40.711444 -74.014847  40.709056 -74.010434   \n\n      member_casual   duration  weekday       interval_5min  \n0            member   5.583333        1 2023-07-11 19:15:00  \n1            casual   3.250000        4 2023-07-07 07:25:00  \n2            member  14.850000        2 2023-07-12 08:20:00  \n4            casual  23.050000        1 2023-07-04 13:25:00  \n5            member   7.483333        1 2023-07-18 21:25:00  \n...             ...        ...      ...                 ...  \n56637        casual  19.783333        1 2023-07-25 19:05:00  \n56638        casual   5.116667        4 2023-07-28 11:55:00  \n56641        member   2.116667        0 2023-07-17 14:35:00  \n56643        member   2.566667        0 2023-07-24 07:35:00  \n56645        member   3.050000        1 2023-07-25 06:50:00  \n\n[38292 rows x 16 columns]",
      "text/html": "<div>\n<style scoped>\n    .dataframe tbody tr th:only-of-type {\n        vertical-align: middle;\n    }\n\n    .dataframe tbody tr th {\n        vertical-align: top;\n    }\n\n    .dataframe thead th {\n        text-align: right;\n    }\n</style>\n<table border=\"1\" class=\"dataframe\">\n  <thead>\n    <tr style=\"text-align: right;\">\n      <th></th>\n      <th>ride_id</th>\n      <th>rideable_type</th>\n      <th>started_at</th>\n      <th>ended_at</th>\n      <th>start_station_name</th>\n      <th>start_station_id</th>\n      <th>end_station_name</th>\n      <th>end_station_id</th>\n      <th>start_lat</th>\n      <th>start_lng</th>\n      <th>end_lat</th>\n      <th>end_lng</th>\n      <th>member_casual</th>\n      <th>duration</th>\n      <th>weekday</th>\n      <th>interval_5min</th>\n    </tr>\n  </thead>\n  <tbody>\n    <tr>\n      <th>0</th>\n      <td>D885F77723C75623</td>\n      <td>classic_bike</td>\n      <td>2023-07-11 19:11:32</td>\n      <td>2023-07-11 19:17:07</td>\n      <td>Pier 40 - Hudson River Park</td>\n      <td>5696.03</td>\n      <td>Greenwich St &amp; Hubert St</td>\n      <td>5470.10</td>\n      <td>40.727714</td>\n      <td>-74.011296</td>\n      <td>40.721319</td>\n      <td>-74.010065</td>\n      <td>member</td>\n      <td>5.583333</td>\n      <td>1</td>\n      <td>2023-07-11 19:15:00</td>\n    </tr>\n    <tr>\n      <th>1</th>\n      <td>6F662CC1D61C7D14</td>\n      <td>classic_bike</td>\n      <td>2023-07-07 07:26:31</td>\n      <td>2023-07-07 07:29:46</td>\n      <td>Pier 40 - Hudson River Park</td>\n      <td>5696.03</td>\n      <td>Greenwich St &amp; Hubert St</td>\n      <td>5470.10</td>\n      <td>40.728049</td>\n      <td>-74.011219</td>\n      <td>40.721319</td>\n      <td>-74.010065</td>\n      <td>casual</td>\n      <td>3.250000</td>\n      <td>4</td>\n      <td>2023-07-07 07:25:00</td>\n    </tr>\n    <tr>\n      <th>2</th>\n      <td>783552ECABCB36BC</td>\n      <td>classic_bike</td>\n      <td>2023-07-12 08:09:08</td>\n      <td>2023-07-12 08:23:59</td>\n      <td>Pier 40 - Hudson River Park</td>\n      <td>5696.03</td>\n      <td>Lafayette St &amp; Grand St</td>\n      <td>5422.09</td>\n      <td>40.727714</td>\n      <td>-74.011296</td>\n      <td>40.720280</td>\n      <td>-73.998790</td>\n      <td>member</td>\n      <td>14.850000</td>\n      <td>2</td>\n      <td>2023-07-12 08:20:00</td>\n    </tr>\n    <tr>\n      <th>4</th>\n      <td>0113D2FBD4E513F7</td>\n      <td>classic_bike</td>\n      <td>2023-07-04 13:04:56</td>\n      <td>2023-07-04 13:27:59</td>\n      <td>Pier 40 - Hudson River Park</td>\n      <td>5696.03</td>\n      <td>W 54 St &amp; 9 Ave</td>\n      <td>6920.03</td>\n      <td>40.727714</td>\n      <td>-74.011296</td>\n      <td>40.765849</td>\n      <td>-73.986905</td>\n      <td>casual</td>\n      <td>23.050000</td>\n      <td>1</td>\n      <td>2023-07-04 13:25:00</td>\n    </tr>\n    <tr>\n      <th>5</th>\n      <td>39DEEDF03DFA35E7</td>\n      <td>classic_bike</td>\n      <td>2023-07-18 21:18:27</td>\n      <td>2023-07-18 21:25:56</td>\n      <td>Pier 40 - Hudson River Park</td>\n      <td>5696.03</td>\n      <td>W 20 St &amp; 10 Ave</td>\n      <td>6306.01</td>\n      <td>40.727714</td>\n      <td>-74.011296</td>\n      <td>40.745686</td>\n      <td>-74.005141</td>\n      <td>member</td>\n      <td>7.483333</td>\n      <td>1</td>\n      <td>2023-07-18 21:25:00</td>\n    </tr>\n    <tr>\n      <th>...</th>\n      <td>...</td>\n      <td>...</td>\n      <td>...</td>\n      <td>...</td>\n      <td>...</td>\n      <td>...</td>\n      <td>...</td>\n      <td>...</td>\n      <td>...</td>\n      <td>...</td>\n      <td>...</td>\n      <td>...</td>\n      <td>...</td>\n      <td>...</td>\n      <td>...</td>\n      <td>...</td>\n    </tr>\n    <tr>\n      <th>56637</th>\n      <td>B1555CECAC7C46E3</td>\n      <td>classic_bike</td>\n      <td>2023-07-25 18:46:05</td>\n      <td>2023-07-25 19:05:52</td>\n      <td>West St &amp; Liberty St</td>\n      <td>5184.08</td>\n      <td>W 12 St &amp; Hudson St</td>\n      <td>5997.10</td>\n      <td>40.711444</td>\n      <td>-74.014847</td>\n      <td>40.737530</td>\n      <td>-74.005589</td>\n      <td>casual</td>\n      <td>19.783333</td>\n      <td>1</td>\n      <td>2023-07-25 19:05:00</td>\n    </tr>\n    <tr>\n      <th>56638</th>\n      <td>FCF46C007E648E58</td>\n      <td>classic_bike</td>\n      <td>2023-07-28 11:52:45</td>\n      <td>2023-07-28 11:57:52</td>\n      <td>West St &amp; Liberty St</td>\n      <td>5184.08</td>\n      <td>Duane St &amp; Hudson St</td>\n      <td>5359.12</td>\n      <td>40.711586</td>\n      <td>-74.014887</td>\n      <td>40.717030</td>\n      <td>-74.009250</td>\n      <td>casual</td>\n      <td>5.116667</td>\n      <td>4</td>\n      <td>2023-07-28 11:55:00</td>\n    </tr>\n    <tr>\n      <th>56641</th>\n      <td>05110D4F6A106C0A</td>\n      <td>classic_bike</td>\n      <td>2023-07-17 14:37:48</td>\n      <td>2023-07-17 14:39:55</td>\n      <td>West St &amp; Liberty St</td>\n      <td>5184.08</td>\n      <td>Liberty St &amp; Broadway</td>\n      <td>5105.01</td>\n      <td>40.711483</td>\n      <td>-74.014827</td>\n      <td>40.709056</td>\n      <td>-74.010434</td>\n      <td>member</td>\n      <td>2.116667</td>\n      <td>0</td>\n      <td>2023-07-17 14:35:00</td>\n    </tr>\n    <tr>\n      <th>56643</th>\n      <td>F5DD1B4AA4244F09</td>\n      <td>classic_bike</td>\n      <td>2023-07-24 07:33:07</td>\n      <td>2023-07-24 07:35:41</td>\n      <td>West St &amp; Liberty St</td>\n      <td>5184.08</td>\n      <td>Liberty St &amp; Broadway</td>\n      <td>5105.01</td>\n      <td>40.711444</td>\n      <td>-74.014847</td>\n      <td>40.709056</td>\n      <td>-74.010434</td>\n      <td>member</td>\n      <td>2.566667</td>\n      <td>0</td>\n      <td>2023-07-24 07:35:00</td>\n    </tr>\n    <tr>\n      <th>56645</th>\n      <td>1F3126FA006825D9</td>\n      <td>classic_bike</td>\n      <td>2023-07-25 06:50:47</td>\n      <td>2023-07-25 06:53:50</td>\n      <td>West St &amp; Liberty St</td>\n      <td>5184.08</td>\n      <td>Liberty St &amp; Broadway</td>\n      <td>5105.01</td>\n      <td>40.711444</td>\n      <td>-74.014847</td>\n      <td>40.709056</td>\n      <td>-74.010434</td>\n      <td>member</td>\n      <td>3.050000</td>\n      <td>1</td>\n      <td>2023-07-25 06:50:00</td>\n    </tr>\n  </tbody>\n</table>\n<p>38292 rows × 16 columns</p>\n</div>"
     },
     "execution_count": 75,
     "metadata": {},
     "output_type": "execute_result"
    }
   ],
   "source": [
    "df_stations"
   ],
   "metadata": {
    "collapsed": false,
    "ExecuteTime": {
     "end_time": "2023-11-14T19:46:30.140534Z",
     "start_time": "2023-11-14T19:46:30.106683Z"
    }
   },
   "id": "cb08b19f50986679"
  },
  {
   "cell_type": "code",
   "execution_count": null,
   "outputs": [],
   "source": [],
   "metadata": {
    "collapsed": false
   },
   "id": "60ecf1af0992a2c0"
  }
 ],
 "metadata": {
  "kernelspec": {
   "display_name": "Python 3 (ipykernel)",
   "language": "python",
   "name": "python3"
  },
  "language_info": {
   "codemirror_mode": {
    "name": "ipython",
    "version": 3
   },
   "file_extension": ".py",
   "mimetype": "text/x-python",
   "name": "python",
   "nbconvert_exporter": "python",
   "pygments_lexer": "ipython3",
   "version": "3.11.4"
  }
 },
 "nbformat": 4,
 "nbformat_minor": 5
}
