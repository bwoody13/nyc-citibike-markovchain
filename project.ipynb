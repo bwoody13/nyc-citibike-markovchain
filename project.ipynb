{
 "cells": [
  {
   "cell_type": "code",
   "execution_count": 1,
   "id": "6422f332-8dae-470f-bf96-0da809ccc37b",
   "metadata": {
    "tags": []
   },
   "outputs": [],
   "source": [
    "import pandas as pd\n",
    "import seaborn as sns\n",
    "import matplotlib.pyplot as plt\n",
    "import numpy as np"
   ]
  },
  {
   "cell_type": "markdown",
   "id": "c5bb4136-b8c1-45b8-a639-5c7c89db436c",
   "metadata": {},
   "source": [
    "# Warm-up"
   ]
  },
  {
   "cell_type": "code",
   "execution_count": 4,
   "id": "b002eb2d-6d7f-4850-9027-f352f88419ef",
   "metadata": {
    "tags": []
   },
   "outputs": [
    {
     "name": "stderr",
     "output_type": "stream",
     "text": [
      "C:\\Users\\User\\AppData\\Local\\Temp\\ipykernel_11720\\2232755120.py:1: DtypeWarning: Columns (5,7) have mixed types. Specify dtype option on import or set low_memory=False.\n",
      "  df_citibike = pd.read_csv(\"202307-citibike-tripdata.csv\")\n"
     ]
    }
   ],
   "source": [
    "df_citibike = pd.read_csv(\"202307-citibike-tripdata.csv\")"
   ]
  },
  {
   "cell_type": "code",
   "execution_count": 5,
   "id": "8e8e351f-0886-43f4-a714-8817c66df4e3",
   "metadata": {
    "tags": []
   },
   "outputs": [],
   "source": [
    "df_citibike.started_at = pd.to_datetime(df_citibike.started_at)\n",
    "df_citibike.ended_at = pd.to_datetime(df_citibike.ended_at)"
   ]
  },
  {
   "cell_type": "code",
   "execution_count": 6,
   "id": "b3be0e05-f475-46ec-9e8b-8daf0ff07931",
   "metadata": {
    "tags": []
   },
   "outputs": [
    {
     "data": {
      "text/html": [
       "<div>\n",
       "<style scoped>\n",
       "    .dataframe tbody tr th:only-of-type {\n",
       "        vertical-align: middle;\n",
       "    }\n",
       "\n",
       "    .dataframe tbody tr th {\n",
       "        vertical-align: top;\n",
       "    }\n",
       "\n",
       "    .dataframe thead th {\n",
       "        text-align: right;\n",
       "    }\n",
       "</style>\n",
       "<table border=\"1\" class=\"dataframe\">\n",
       "  <thead>\n",
       "    <tr style=\"text-align: right;\">\n",
       "      <th></th>\n",
       "      <th>ride_id</th>\n",
       "      <th>rideable_type</th>\n",
       "      <th>started_at</th>\n",
       "      <th>ended_at</th>\n",
       "      <th>start_station_name</th>\n",
       "      <th>start_station_id</th>\n",
       "      <th>end_station_name</th>\n",
       "      <th>end_station_id</th>\n",
       "      <th>start_lat</th>\n",
       "      <th>start_lng</th>\n",
       "      <th>end_lat</th>\n",
       "      <th>end_lng</th>\n",
       "      <th>member_casual</th>\n",
       "    </tr>\n",
       "  </thead>\n",
       "  <tbody>\n",
       "    <tr>\n",
       "      <th>0</th>\n",
       "      <td>BC78328130CD8A16</td>\n",
       "      <td>classic_bike</td>\n",
       "      <td>2023-07-16 20:42:57</td>\n",
       "      <td>2023-07-16 20:45:13</td>\n",
       "      <td>St. Nicholas Ave &amp; W 126 St</td>\n",
       "      <td>7756.10</td>\n",
       "      <td>Adam Clayton Powell Blvd &amp; W 126 St</td>\n",
       "      <td>7738.04</td>\n",
       "      <td>40.811432</td>\n",
       "      <td>-73.951878</td>\n",
       "      <td>40.809495</td>\n",
       "      <td>-73.947765</td>\n",
       "      <td>member</td>\n",
       "    </tr>\n",
       "    <tr>\n",
       "      <th>1</th>\n",
       "      <td>71A4DFA231ADAEA2</td>\n",
       "      <td>classic_bike</td>\n",
       "      <td>2023-07-29 12:22:21</td>\n",
       "      <td>2023-07-29 12:26:54</td>\n",
       "      <td>Adam Clayton Powell Blvd &amp; W 118 St</td>\n",
       "      <td>7670.09</td>\n",
       "      <td>Adam Clayton Powell Blvd &amp; W 126 St</td>\n",
       "      <td>7738.04</td>\n",
       "      <td>40.804372</td>\n",
       "      <td>-73.951475</td>\n",
       "      <td>40.809495</td>\n",
       "      <td>-73.947765</td>\n",
       "      <td>member</td>\n",
       "    </tr>\n",
       "    <tr>\n",
       "      <th>2</th>\n",
       "      <td>B64451D0D9F52134</td>\n",
       "      <td>classic_bike</td>\n",
       "      <td>2023-07-30 18:30:18</td>\n",
       "      <td>2023-07-30 18:35:42</td>\n",
       "      <td>St. Nicholas Ave &amp; W 126 St</td>\n",
       "      <td>7756.10</td>\n",
       "      <td>Lenox Ave &amp; W 130 St</td>\n",
       "      <td>7753.13</td>\n",
       "      <td>40.811378</td>\n",
       "      <td>-73.951827</td>\n",
       "      <td>40.810792</td>\n",
       "      <td>-73.943068</td>\n",
       "      <td>member</td>\n",
       "    </tr>\n",
       "    <tr>\n",
       "      <th>3</th>\n",
       "      <td>EEECB3E0E05EB0DB</td>\n",
       "      <td>classic_bike</td>\n",
       "      <td>2023-07-04 19:59:20</td>\n",
       "      <td>2023-07-04 20:02:03</td>\n",
       "      <td>St. Nicholas Ave &amp; W 126 St</td>\n",
       "      <td>7756.10</td>\n",
       "      <td>Adam Clayton Powell Blvd &amp; W 126 St</td>\n",
       "      <td>7738.04</td>\n",
       "      <td>40.811432</td>\n",
       "      <td>-73.951878</td>\n",
       "      <td>40.809495</td>\n",
       "      <td>-73.947765</td>\n",
       "      <td>member</td>\n",
       "    </tr>\n",
       "    <tr>\n",
       "      <th>4</th>\n",
       "      <td>76B706DF4FC180DC</td>\n",
       "      <td>classic_bike</td>\n",
       "      <td>2023-07-03 19:33:36</td>\n",
       "      <td>2023-07-03 19:43:59</td>\n",
       "      <td>St. Nicholas Ave &amp; W 126 St</td>\n",
       "      <td>7756.10</td>\n",
       "      <td>Pleasant Ave &amp; E 116 St</td>\n",
       "      <td>7450.05</td>\n",
       "      <td>40.811543</td>\n",
       "      <td>-73.951813</td>\n",
       "      <td>40.794988</td>\n",
       "      <td>-73.933335</td>\n",
       "      <td>member</td>\n",
       "    </tr>\n",
       "  </tbody>\n",
       "</table>\n",
       "</div>"
      ],
      "text/plain": [
       "            ride_id rideable_type          started_at            ended_at  \\\n",
       "0  BC78328130CD8A16  classic_bike 2023-07-16 20:42:57 2023-07-16 20:45:13   \n",
       "1  71A4DFA231ADAEA2  classic_bike 2023-07-29 12:22:21 2023-07-29 12:26:54   \n",
       "2  B64451D0D9F52134  classic_bike 2023-07-30 18:30:18 2023-07-30 18:35:42   \n",
       "3  EEECB3E0E05EB0DB  classic_bike 2023-07-04 19:59:20 2023-07-04 20:02:03   \n",
       "4  76B706DF4FC180DC  classic_bike 2023-07-03 19:33:36 2023-07-03 19:43:59   \n",
       "\n",
       "                    start_station_name start_station_id  \\\n",
       "0          St. Nicholas Ave & W 126 St          7756.10   \n",
       "1  Adam Clayton Powell Blvd & W 118 St          7670.09   \n",
       "2          St. Nicholas Ave & W 126 St          7756.10   \n",
       "3          St. Nicholas Ave & W 126 St          7756.10   \n",
       "4          St. Nicholas Ave & W 126 St          7756.10   \n",
       "\n",
       "                      end_station_name end_station_id  start_lat  start_lng  \\\n",
       "0  Adam Clayton Powell Blvd & W 126 St        7738.04  40.811432 -73.951878   \n",
       "1  Adam Clayton Powell Blvd & W 126 St        7738.04  40.804372 -73.951475   \n",
       "2                 Lenox Ave & W 130 St        7753.13  40.811378 -73.951827   \n",
       "3  Adam Clayton Powell Blvd & W 126 St        7738.04  40.811432 -73.951878   \n",
       "4              Pleasant Ave & E 116 St        7450.05  40.811543 -73.951813   \n",
       "\n",
       "     end_lat    end_lng member_casual  \n",
       "0  40.809495 -73.947765        member  \n",
       "1  40.809495 -73.947765        member  \n",
       "2  40.810792 -73.943068        member  \n",
       "3  40.809495 -73.947765        member  \n",
       "4  40.794988 -73.933335        member  "
      ]
     },
     "execution_count": 6,
     "metadata": {},
     "output_type": "execute_result"
    }
   ],
   "source": [
    "df_citibike.head()"
   ]
  },
  {
   "cell_type": "code",
   "execution_count": 7,
   "id": "e6e7866e-c481-497a-ae45-2420c825f427",
   "metadata": {
    "tags": []
   },
   "outputs": [
    {
     "name": "stdout",
     "output_type": "stream",
     "text": [
      "<class 'pandas.core.frame.DataFrame'>\n",
      "RangeIndex: 3776256 entries, 0 to 3776255\n",
      "Data columns (total 13 columns):\n",
      " #   Column              Dtype         \n",
      "---  ------              -----         \n",
      " 0   ride_id             object        \n",
      " 1   rideable_type       object        \n",
      " 2   started_at          datetime64[ns]\n",
      " 3   ended_at            datetime64[ns]\n",
      " 4   start_station_name  object        \n",
      " 5   start_station_id    object        \n",
      " 6   end_station_name    object        \n",
      " 7   end_station_id      object        \n",
      " 8   start_lat           float64       \n",
      " 9   start_lng           float64       \n",
      " 10  end_lat             float64       \n",
      " 11  end_lng             float64       \n",
      " 12  member_casual       object        \n",
      "dtypes: datetime64[ns](2), float64(4), object(7)\n",
      "memory usage: 374.5+ MB\n"
     ]
    }
   ],
   "source": [
    "df_citibike.info()"
   ]
  },
  {
   "cell_type": "code",
   "execution_count": 8,
   "id": "c4261490-fbf8-4be5-a1f0-2d1bc930ce25",
   "metadata": {
    "tags": []
   },
   "outputs": [],
   "source": [
    "df_citibike = df_citibike.dropna()"
   ]
  },
  {
   "cell_type": "code",
   "execution_count": 9,
   "id": "1c70f423-8703-45b8-87bb-12e99a60185e",
   "metadata": {
    "tags": []
   },
   "outputs": [],
   "source": [
    "df_citibike[\"duration\"] = (df_citibike.ended_at - df_citibike.started_at).dt.total_seconds() / 60"
   ]
  },
  {
   "cell_type": "code",
   "execution_count": 10,
   "id": "0a861022-78ff-4c96-8a06-4a79ffac2abf",
   "metadata": {
    "tags": []
   },
   "outputs": [
    {
     "data": {
      "text/plain": [
       "0           2.266667\n",
       "1           4.550000\n",
       "2           5.400000\n",
       "3           2.716667\n",
       "4          10.383333\n",
       "             ...    \n",
       "3776251    26.650000\n",
       "3776252    28.316667\n",
       "3776253     4.450000\n",
       "3776254    10.683333\n",
       "3776255     2.566667\n",
       "Name: duration, Length: 3767347, dtype: float64"
      ]
     },
     "execution_count": 10,
     "metadata": {},
     "output_type": "execute_result"
    }
   ],
   "source": [
    "df_citibike.duration"
   ]
  },
  {
   "cell_type": "code",
   "execution_count": 11,
   "id": "66a90158-5dd3-45fd-b706-f1782d195896",
   "metadata": {
    "tags": []
   },
   "outputs": [],
   "source": [
    "df_citibike = df_citibike[df_citibike.duration < 60*3]\n",
    "df_citibike = df_citibike[df_citibike.duration > 0]"
   ]
  },
  {
   "cell_type": "markdown",
   "id": "ad45c3cf-2544-4955-a810-c26153f7785f",
   "metadata": {},
   "source": [
    "## Duration Histogram"
   ]
  },
  {
   "cell_type": "code",
   "execution_count": 12,
   "id": "8d8aef2d-13e2-4a3e-975a-bf6d6e7a14a2",
   "metadata": {
    "tags": []
   },
   "outputs": [
    {
     "data": {
      "image/png": "[encoded data removed]",
      "text/plain": [
       "<Figure size 640x480 with 1 Axes>"
      ]
     },
     "metadata": {},
     "output_type": "display_data"
    }
   ],
   "source": [
    "plt.hist(df_citibike.duration, bins=3*60)\n",
    "plt.title(\"Hist of Trip Duration\")\n",
    "plt.xlabel(\"Duration of Trip\")\n",
    "plt.ylabel(\"Number of Trips\")\n",
    "plt.show()"
   ]
  },
  {
   "cell_type": "markdown",
   "id": "ce86b889-e494-45a6-958e-efc2c25a2389",
   "metadata": {},
   "source": [
    "## Average Ride Duration, Variance, and $\\mathbb{P}$(Duration $>$ 20)"
   ]
  },
  {
   "cell_type": "code",
   "execution_count": 13,
   "id": "c59f0a5e-224b-4d17-861f-96b94fd9dd38",
   "metadata": {
    "tags": []
   },
   "outputs": [],
   "source": [
    "total = len(df_citibike)"
   ]
  },
  {
   "cell_type": "code",
   "execution_count": 14,
   "id": "a07f7980-0acd-45a6-8236-21c0846bf3d6",
   "metadata": {
    "tags": []
   },
   "outputs": [
    {
     "name": "stdout",
     "output_type": "stream",
     "text": [
      "Average Duration = 13.560221346513465\n"
     ]
    }
   ],
   "source": [
    "avg_dur = df_citibike.duration.mean()\n",
    "print(f\"Average Duration = {avg_dur}\")"
   ]
  },
  {
   "cell_type": "code",
   "execution_count": 15,
   "id": "88451aed-e654-4bea-be0c-dd8ddb2b36da",
   "metadata": {
    "tags": []
   },
   "outputs": [
    {
     "name": "stdout",
     "output_type": "stream",
     "text": [
      "Varianve of Duration = 196.69836284899702\n"
     ]
    }
   ],
   "source": [
    "var_dur = df_citibike.duration.var()\n",
    "print(f\"Varianve of Duration = {var_dur}\")"
   ]
  },
  {
   "cell_type": "code",
   "execution_count": 16,
   "id": "fcb6b9b0-3ce2-4103-9529-296b11752642",
   "metadata": {
    "tags": []
   },
   "outputs": [
    {
     "name": "stdout",
     "output_type": "stream",
     "text": [
      "P(duration > 20) = 0.19654085290380166\n"
     ]
    }
   ],
   "source": [
    "gt_20 = (df_citibike.duration > 20).sum()\n",
    "p_dur_20 = gt_20 / total\n",
    "print(f\"P(duration > 20) = {p_dur_20}\")"
   ]
  },
  {
   "cell_type": "markdown",
   "id": "884dc31d-f485-49ba-b4a4-4fe3de9093ae",
   "metadata": {},
   "source": [
    "## $\\mathbb{P}$(Duration > 20 | CitiBike Memeber)"
   ]
  },
  {
   "cell_type": "code",
   "execution_count": 17,
   "id": "ae4bd8ff-982b-40f5-b032-98c86aa1dd7b",
   "metadata": {
    "tags": []
   },
   "outputs": [
    {
     "name": "stdout",
     "output_type": "stream",
     "text": [
      "P(duration > 20 | CitiBike Member) = 0.1546848321918055\n"
     ]
    }
   ],
   "source": [
    "p_citibike_mem = (df_citibike.member_casual == \"member\").sum() / total\n",
    "p_cbmem_and_dur20 = ((df_citibike.member_casual == \"member\") & (df_citibike.duration > 20)).sum() / total\n",
    "p_dur20_given_citibike_mem = p_cbmem_and_dur20 / p_citibike_mem\n",
    "print(f\"P(duration > 20 | CitiBike Member) = {p_dur20_given_citibike_mem}\")"
   ]
  },
  {
   "cell_type": "markdown",
   "id": "fc0ef95e-7c60-43f4-9b3b-398770a2cdcc",
   "metadata": {},
   "source": [
    "## $\\mathbb{P}$(CitiBike Member | Duration > 25)"
   ]
  },
  {
   "cell_type": "code",
   "execution_count": 18,
   "id": "b0b7f9f2-80bb-4554-a94c-6cba7d98364a",
   "metadata": {
    "tags": []
   },
   "outputs": [
    {
     "name": "stdout",
     "output_type": "stream",
     "text": [
      "P(CitiBike Member | duration > 25) = 0.5787196676877677\n"
     ]
    }
   ],
   "source": [
    "p_dur_25 = (df_citibike.duration > 25).sum() / total\n",
    "p_cbmem_and_dur25 = ((df_citibike.member_casual == \"member\") & (df_citibike.duration > 25)).sum() / total\n",
    "p_dur25_given_citibike_mem = p_cbmem_and_dur25 / p_dur_25\n",
    "print(f\"P(CitiBike Member | duration > 25) = {p_dur25_given_citibike_mem}\")"
   ]
  },
  {
   "cell_type": "markdown",
   "id": "2ef6fe8d-2f46-422d-ae97-a33afd4e7a97",
   "metadata": {},
   "source": [
    "## Expected duration of Electric Bike vs. Classic Bike"
   ]
  },
  {
   "cell_type": "code",
   "execution_count": 19,
   "id": "6a1f497d-10b0-411e-a75e-2fad449f8daa",
   "metadata": {
    "tags": []
   },
   "outputs": [],
   "source": [
    "df_elecbike = df_citibike[df_citibike.rideable_type == \"electric_bike\"]\n",
    "df_clasbike = df_citibike[df_citibike.rideable_type == \"classic_bike\"]"
   ]
  },
  {
   "cell_type": "code",
   "execution_count": 20,
   "id": "2bb92e27-9ce1-411d-9717-b131a95538e1",
   "metadata": {
    "tags": []
   },
   "outputs": [
    {
     "name": "stdout",
     "output_type": "stream",
     "text": [
      "Expected Duration: ebike=12.280488130239785 ; classic-bike=13.63475766258535\n"
     ]
    }
   ],
   "source": [
    "avg_dur_eb = df_elecbike.duration.mean()\n",
    "avg_dur_cb = df_clasbike.duration.mean()\n",
    "print(f\"Expected Duration: ebike={avg_dur_eb} ; classic-bike={avg_dur_cb}\")"
   ]
  },
  {
   "cell_type": "markdown",
   "id": "c90ac13b-37d1-48db-8599-b8e8969a494e",
   "metadata": {},
   "source": [
    "## $\\mathbb{P}$(Electric Bike | Duration < 10) and $\\mathbb{P}$(Classic Bike | Duration < 10)"
   ]
  },
  {
   "cell_type": "code",
   "execution_count": 21,
   "id": "0c7d4ede-4725-4d97-a06b-c2d98a693b1c",
   "metadata": {
    "tags": []
   },
   "outputs": [
    {
     "name": "stdout",
     "output_type": "stream",
     "text": [
      "P(E-bike | duration < 10)=0.08921668362156664\n",
      "P(classic-bike | duration < 10)=0.9101774950274062\n"
     ]
    }
   ],
   "source": [
    "p_d10 = (df_citibike.duration < 10).sum() / total\n",
    "p_eb_and_d10 = ((df_citibike.rideable_type == \"electric_bike\") & (df_citibike.duration < 10)).sum() / total\n",
    "p_cb_and_d10 = ((df_citibike.rideable_type == \"classic_bike\") & (df_citibike.duration < 10)).sum() / total\n",
    "p_eb_given_d10 = p_eb_and_d10 / p_d10\n",
    "p_cb_given_d10 = p_cb_and_d10 / p_d10\n",
    "print(f\"P(E-bike | duration < 10)={p_eb_given_d10}\\nP(classic-bike | duration < 10)={p_cb_given_d10}\")"
   ]
  },
  {
   "cell_type": "markdown",
   "id": "37d3b680-0de3-4699-ab12-a51733da71c7",
   "metadata": {},
   "source": [
    "# Project Portion"
   ]
  },
  {
   "cell_type": "markdown",
   "id": "220c4295-79c0-44df-8b3e-c4f153b89f07",
   "metadata": {},
   "source": [
    "## Select Stations"
   ]
  },
  {
   "cell_type": "code",
   "execution_count": 22,
   "id": "3b8e8f83-9116-42d7-bb50-ad489de05d60",
   "metadata": {
    "tags": []
   },
   "outputs": [],
   "source": [
    "df_start = df_citibike.groupby([\"start_station_id\", \"start_station_name\"]).ride_id.count().sort_values(ascending=False)"
   ]
  },
  {
   "cell_type": "code",
   "execution_count": 23,
   "id": "25587ca9-2a20-4c63-91f3-e85c7d5a3939",
   "metadata": {
    "tags": []
   },
   "outputs": [
    {
     "data": {
      "text/plain": [
       "start_station_id  start_station_name         \n",
       "6140.05           W 21 St & 6 Ave                12453\n",
       "5329.03           West St & Chambers St          12361\n",
       "6948.10           Broadway & W 58 St             11097\n",
       "6726.01           11 Ave & W 41 St               10559\n",
       "6364.07           6 Ave & W 33 St                10130\n",
       "6765.01           12 Ave & W 40 St               10015\n",
       "6157.04           10 Ave & W 14 St                9999\n",
       "5184.08           West St & Liberty St            9752\n",
       "5905.14           University Pl & E 14 St         9682\n",
       "6912.01           7 Ave & Central Park South      9656\n",
       "6822.09           1 Ave & E 68 St                 9631\n",
       "5980.07           E 17 St & Broadway              9308\n",
       "6173.08           Broadway & W 25 St              8960\n",
       "6459.07           W 30 St & 10 Ave                8929\n",
       "5696.03           Pier 40 - Hudson River Park     8904\n",
       "5905.12           Broadway & E 14 St              8686\n",
       "5492.05           Cleveland Pl & Spring St        8682\n",
       "6331.01           W 31 St & 7 Ave                 8632\n",
       "6197.08           E 33 St & 1 Ave                 8573\n",
       "6450.12           8 Ave & W 33 St                 8553\n",
       "6072.11           8 Ave & W 16 St                 8157\n",
       "6535.04           W 34 St & Hudson Blvd E         8116\n",
       "5779.11           Ave A & E 14 St                 8112\n",
       "5303.08           Canal St & Rutgers St           8086\n",
       "6432.11           E 40 St & Park Ave              8059\n",
       "Name: ride_id, dtype: int64"
      ]
     },
     "execution_count": 23,
     "metadata": {},
     "output_type": "execute_result"
    }
   ],
   "source": [
    "df_start.head(25)"
   ]
  },
  {
   "cell_type": "code",
   "execution_count": 24,
   "id": "c19070b9-7dd4-4b94-ab79-d2bfd6622e91",
   "metadata": {
    "tags": []
   },
   "outputs": [],
   "source": [
    "df_end = df_citibike.groupby([\"end_station_id\", \"end_station_name\"]).ride_id.count().sort_values(ascending=False)"
   ]
  },
  {
   "cell_type": "code",
   "execution_count": 25,
   "id": "a8376a39-2f9f-469e-885e-66e9c991e70a",
   "metadata": {
    "tags": []
   },
   "outputs": [
    {
     "data": {
      "text/plain": [
       "end_station_id  end_station_name           \n",
       "6140.05         W 21 St & 6 Ave                13658\n",
       "6948.10         Broadway & W 58 St             12028\n",
       "6726.01         11 Ave & W 41 St               11967\n",
       "6912.01         7 Ave & Central Park South     11391\n",
       "6364.07         6 Ave & W 33 St                11091\n",
       "6765.01         12 Ave & W 40 St               10899\n",
       "5905.14         University Pl & E 14 St        10548\n",
       "6822.09         1 Ave & E 68 St                10403\n",
       "5980.07         E 17 St & Broadway             10242\n",
       "6459.07         W 30 St & 10 Ave               10003\n",
       "5905.12         Broadway & E 14 St              9642\n",
       "5492.05         Cleveland Pl & Spring St        9588\n",
       "6331.01         W 31 St & 7 Ave                 9576\n",
       "6197.08         E 33 St & 1 Ave                 9527\n",
       "6535.04         W 34 St & Hudson Blvd E         9090\n",
       "6450.12         8 Ave & W 33 St                 9079\n",
       "5696.03         Pier 40 - Hudson River Park     8995\n",
       "5788.13         Lafayette St & E 8 St           8929\n",
       "6432.11         E 40 St & Park Ave              8853\n",
       "5779.11         Ave A & E 14 St                 8784\n",
       "5303.08         Canal St & Rutgers St           8765\n",
       "6526.05         8 Ave & W 38 St                 8726\n",
       "6266.06         9 Ave & W 22 St                 8682\n",
       "5184.08         West St & Liberty St            8628\n",
       "6072.11         8 Ave & W 16 St                 8607\n",
       "Name: ride_id, dtype: int64"
      ]
     },
     "execution_count": 25,
     "metadata": {},
     "output_type": "execute_result"
    }
   ],
   "source": [
    "df_end.head(25)"
   ]
  },
  {
   "cell_type": "markdown",
   "id": "a7354ccd-51fa-4f3f-836f-7b77c617b050",
   "metadata": {},
   "source": [
    "Stations Selected\n",
    "- 6948.10, Broadway & W 58 St, 11097\n",
    "- 5184.08, West St & Liberty St 9752\n",
    "- 5696.03, Pier 40 - Hudson River Park, 8995"
   ]
  },
  {
   "cell_type": "code",
   "execution_count": 102,
   "id": "5bc4232c-46cf-41e9-be25-6a598d13740a",
   "metadata": {
    "ExecuteTime": {
     "end_time": "2023-11-14T20:17:15.319727Z",
     "start_time": "2023-11-14T20:17:15.310962Z"
    },
    "tags": []
   },
   "outputs": [],
   "source": [
    "station_1_id = \"6948.10\"\n",
    "station_2_id = \"5184.08\"\n",
    "station_3_id = \"5696.03\"\n",
    "station_ids = [station_1_id, station_2_id, station_3_id]\n",
    "station_map = {\n",
    "    '6948.10': {\n",
    "        \"station_name\": 'Broadway & W 58 St', \n",
    "        \"dock_size\": 53\n",
    "    },\n",
    "    '5184.08': {\n",
    "        \"station_name\": 'West St & Liberty St', \n",
    "        \"dock_size\": 34\n",
    "    },\n",
    "    '5696.03': {\n",
    "        \"station_name\": 'Pier 40 - Hudson River Park', \n",
    "        \"dock_size\": 19\n",
    "    },\n",
    "}"
   ]
  },
  {
   "cell_type": "code",
   "execution_count": 70,
   "id": "0ac877b4-85a7-4338-be90-2f1195eeb648",
   "metadata": {
    "ExecuteTime": {
     "end_time": "2023-11-14T19:42:00.708502Z",
     "start_time": "2023-11-14T19:41:59.686859Z"
    },
    "collapsed": false,
    "jupyter": {
     "outputs_hidden": false
    },
    "tags": []
   },
   "outputs": [],
   "source": [
    "mask_st = df_citibike.start_station_id.isin(station_ids)\n",
    "mask_end = df_citibike.end_station_id.isin(station_ids)\n",
    "df_stations = df_citibike[mask_st | mask_end].reset_index(drop=True)"
   ]
  },
  {
   "cell_type": "code",
   "execution_count": 71,
   "id": "4a0ef4db-68eb-4ec9-a941-5908d496587a",
   "metadata": {
    "tags": []
   },
   "outputs": [],
   "source": [
    "df_stations = df_stations.drop([\"start_lat\", \"start_lng\", \"end_lat\", \"end_lng\"], axis=1)"
   ]
  },
  {
   "cell_type": "markdown",
   "id": "f33a6fbb-a90c-4117-96fc-0fb7d5c8099e",
   "metadata": {},
   "source": [
    "## Remove Weekends"
   ]
  },
  {
   "cell_type": "code",
   "execution_count": 73,
   "id": "14e82d1d-96ed-4510-8897-57bc4c2981f1",
   "metadata": {
    "ExecuteTime": {
     "end_time": "2023-11-14T19:42:23.881328Z",
     "start_time": "2023-11-14T19:42:23.795859Z"
    },
    "collapsed": false,
    "jupyter": {
     "outputs_hidden": false
    },
    "tags": []
   },
   "outputs": [],
   "source": [
    "df_stations[\"weekday_start\"] = df_stations[\"started_at\"].dt.dayofweek\n",
    "df_stations[\"weekday_end\"] = df_stations[\"ended_at\"].dt.dayofweek\n",
    "mask_st = (df_stations.weekday_start < 5) & (df_stations.start_station_id.isin(station_ids))\n",
    "mask_end = (df_stations.weekday_end < 5) & (df_stations.end_station_id.isin(station_ids))\n",
    "df_stations = df_stations[mask_st | mask_end]"
   ]
  },
  {
   "cell_type": "markdown",
   "id": "f24548b3-6ede-4b6a-9160-2bd462108aba",
   "metadata": {},
   "source": [
    "## Extract 5 min intervals"
   ]
  },
  {
   "cell_type": "code",
   "execution_count": 74,
   "id": "b535b4bd-3ed1-42c8-a384-2d958aef5d7a",
   "metadata": {
    "tags": []
   },
   "outputs": [
    {
     "name": "stderr",
     "output_type": "stream",
     "text": [
      "C:\\Users\\User\\AppData\\Local\\Temp\\ipykernel_11720\\971441422.py:2: SettingWithCopyWarning: \n",
      "A value is trying to be set on a copy of a slice from a DataFrame.\n",
      "Try using .loc[row_indexer,col_indexer] = value instead\n",
      "\n",
      "See the caveats in the documentation: https://pandas.pydata.org/pandas-docs/stable/user_guide/indexing.html#returning-a-view-versus-a-copy\n",
      "  df_stations['start_bin'] = ((df_stations['started_at'].dt.hour * 60 + df_stations['started_at'].dt.minute) // 5)\n",
      "C:\\Users\\User\\AppData\\Local\\Temp\\ipykernel_11720\\971441422.py:3: SettingWithCopyWarning: \n",
      "A value is trying to be set on a copy of a slice from a DataFrame.\n",
      "Try using .loc[row_indexer,col_indexer] = value instead\n",
      "\n",
      "See the caveats in the documentation: https://pandas.pydata.org/pandas-docs/stable/user_guide/indexing.html#returning-a-view-versus-a-copy\n",
      "  df_stations['end_bin'] = ((df_stations['ended_at'].dt.hour * 60 + df_stations['ended_at'].dt.minute) // 5)\n"
     ]
    }
   ],
   "source": [
    "# Extract the time part\n",
    "df_stations['start_bin'] = ((df_stations['started_at'].dt.hour * 60 + df_stations['started_at'].dt.minute) // 5)\n",
    "df_stations['end_bin'] = ((df_stations['ended_at'].dt.hour * 60 + df_stations['ended_at'].dt.minute) // 5)"
   ]
  },
  {
   "cell_type": "code",
   "execution_count": 75,
   "id": "8715e64d-8760-46ed-a382-4dfa0a0dab3b",
   "metadata": {
    "tags": []
   },
   "outputs": [
    {
     "data": {
      "text/html": [
       "<div>\n",
       "<style scoped>\n",
       "    .dataframe tbody tr th:only-of-type {\n",
       "        vertical-align: middle;\n",
       "    }\n",
       "\n",
       "    .dataframe tbody tr th {\n",
       "        vertical-align: top;\n",
       "    }\n",
       "\n",
       "    .dataframe thead th {\n",
       "        text-align: right;\n",
       "    }\n",
       "</style>\n",
       "<table border=\"1\" class=\"dataframe\">\n",
       "  <thead>\n",
       "    <tr style=\"text-align: right;\">\n",
       "      <th></th>\n",
       "      <th>ride_id</th>\n",
       "      <th>rideable_type</th>\n",
       "      <th>started_at</th>\n",
       "      <th>ended_at</th>\n",
       "      <th>start_station_name</th>\n",
       "      <th>start_station_id</th>\n",
       "      <th>end_station_name</th>\n",
       "      <th>end_station_id</th>\n",
       "      <th>member_casual</th>\n",
       "      <th>duration</th>\n",
       "      <th>weekday_start</th>\n",
       "      <th>weekday_end</th>\n",
       "      <th>start_bin</th>\n",
       "      <th>end_bin</th>\n",
       "    </tr>\n",
       "  </thead>\n",
       "  <tbody>\n",
       "    <tr>\n",
       "      <th>0</th>\n",
       "      <td>D885F77723C75623</td>\n",
       "      <td>classic_bike</td>\n",
       "      <td>2023-07-11 19:11:32</td>\n",
       "      <td>2023-07-11 19:17:07</td>\n",
       "      <td>Pier 40 - Hudson River Park</td>\n",
       "      <td>5696.03</td>\n",
       "      <td>Greenwich St &amp; Hubert St</td>\n",
       "      <td>5470.10</td>\n",
       "      <td>member</td>\n",
       "      <td>5.583333</td>\n",
       "      <td>1</td>\n",
       "      <td>1</td>\n",
       "      <td>230</td>\n",
       "      <td>231</td>\n",
       "    </tr>\n",
       "    <tr>\n",
       "      <th>1</th>\n",
       "      <td>6F662CC1D61C7D14</td>\n",
       "      <td>classic_bike</td>\n",
       "      <td>2023-07-07 07:26:31</td>\n",
       "      <td>2023-07-07 07:29:46</td>\n",
       "      <td>Pier 40 - Hudson River Park</td>\n",
       "      <td>5696.03</td>\n",
       "      <td>Greenwich St &amp; Hubert St</td>\n",
       "      <td>5470.10</td>\n",
       "      <td>casual</td>\n",
       "      <td>3.250000</td>\n",
       "      <td>4</td>\n",
       "      <td>4</td>\n",
       "      <td>89</td>\n",
       "      <td>89</td>\n",
       "    </tr>\n",
       "    <tr>\n",
       "      <th>2</th>\n",
       "      <td>783552ECABCB36BC</td>\n",
       "      <td>classic_bike</td>\n",
       "      <td>2023-07-12 08:09:08</td>\n",
       "      <td>2023-07-12 08:23:59</td>\n",
       "      <td>Pier 40 - Hudson River Park</td>\n",
       "      <td>5696.03</td>\n",
       "      <td>Lafayette St &amp; Grand St</td>\n",
       "      <td>5422.09</td>\n",
       "      <td>member</td>\n",
       "      <td>14.850000</td>\n",
       "      <td>2</td>\n",
       "      <td>2</td>\n",
       "      <td>97</td>\n",
       "      <td>100</td>\n",
       "    </tr>\n",
       "    <tr>\n",
       "      <th>4</th>\n",
       "      <td>0113D2FBD4E513F7</td>\n",
       "      <td>classic_bike</td>\n",
       "      <td>2023-07-04 13:04:56</td>\n",
       "      <td>2023-07-04 13:27:59</td>\n",
       "      <td>Pier 40 - Hudson River Park</td>\n",
       "      <td>5696.03</td>\n",
       "      <td>W 54 St &amp; 9 Ave</td>\n",
       "      <td>6920.03</td>\n",
       "      <td>casual</td>\n",
       "      <td>23.050000</td>\n",
       "      <td>1</td>\n",
       "      <td>1</td>\n",
       "      <td>156</td>\n",
       "      <td>161</td>\n",
       "    </tr>\n",
       "    <tr>\n",
       "      <th>5</th>\n",
       "      <td>39DEEDF03DFA35E7</td>\n",
       "      <td>classic_bike</td>\n",
       "      <td>2023-07-18 21:18:27</td>\n",
       "      <td>2023-07-18 21:25:56</td>\n",
       "      <td>Pier 40 - Hudson River Park</td>\n",
       "      <td>5696.03</td>\n",
       "      <td>W 20 St &amp; 10 Ave</td>\n",
       "      <td>6306.01</td>\n",
       "      <td>member</td>\n",
       "      <td>7.483333</td>\n",
       "      <td>1</td>\n",
       "      <td>1</td>\n",
       "      <td>255</td>\n",
       "      <td>257</td>\n",
       "    </tr>\n",
       "  </tbody>\n",
       "</table>\n",
       "</div>"
      ],
      "text/plain": [
       "            ride_id rideable_type          started_at            ended_at  \\\n",
       "0  D885F77723C75623  classic_bike 2023-07-11 19:11:32 2023-07-11 19:17:07   \n",
       "1  6F662CC1D61C7D14  classic_bike 2023-07-07 07:26:31 2023-07-07 07:29:46   \n",
       "2  783552ECABCB36BC  classic_bike 2023-07-12 08:09:08 2023-07-12 08:23:59   \n",
       "4  0113D2FBD4E513F7  classic_bike 2023-07-04 13:04:56 2023-07-04 13:27:59   \n",
       "5  39DEEDF03DFA35E7  classic_bike 2023-07-18 21:18:27 2023-07-18 21:25:56   \n",
       "\n",
       "            start_station_name start_station_id          end_station_name  \\\n",
       "0  Pier 40 - Hudson River Park          5696.03  Greenwich St & Hubert St   \n",
       "1  Pier 40 - Hudson River Park          5696.03  Greenwich St & Hubert St   \n",
       "2  Pier 40 - Hudson River Park          5696.03   Lafayette St & Grand St   \n",
       "4  Pier 40 - Hudson River Park          5696.03           W 54 St & 9 Ave   \n",
       "5  Pier 40 - Hudson River Park          5696.03          W 20 St & 10 Ave   \n",
       "\n",
       "  end_station_id member_casual   duration  weekday_start  weekday_end  \\\n",
       "0        5470.10        member   5.583333              1            1   \n",
       "1        5470.10        casual   3.250000              4            4   \n",
       "2        5422.09        member  14.850000              2            2   \n",
       "4        6920.03        casual  23.050000              1            1   \n",
       "5        6306.01        member   7.483333              1            1   \n",
       "\n",
       "   start_bin  end_bin  \n",
       "0        230      231  \n",
       "1         89       89  \n",
       "2         97      100  \n",
       "4        156      161  \n",
       "5        255      257  "
      ]
     },
     "execution_count": 75,
     "metadata": {},
     "output_type": "execute_result"
    }
   ],
   "source": [
    "df_stations.head()"
   ]
  },
  {
   "cell_type": "code",
   "execution_count": 76,
   "id": "fb533f51-71b4-4ff4-a0ea-7a717e26117f",
   "metadata": {
    "tags": []
   },
   "outputs": [
    {
     "data": {
      "image/png": "[encoded data removed]",
      "text/plain": [
       "<Figure size 1600x1200 with 6 Axes>"
      ]
     },
     "metadata": {},
     "output_type": "display_data"
    }
   ],
   "source": [
    "plt.figure(figsize=(16, 12))\n",
    "for i, station_id in enumerate(station_ids):\n",
    "    # Create masks for trips that start or end at the current station\n",
    "    mask_st = df_stations['start_station_id'] == station_id\n",
    "    mask_end = df_stations['end_station_id'] == station_id\n",
    "\n",
    "    # Histogram for start bin (1st column)\n",
    "    plt.subplot(3, 2, 2*i + 1)  # 3 rows, 2 columns, subplot index for start bin\n",
    "    plt.hist(df_stations[mask_st].start_bin, bins=24*60//5, color='blue')\n",
    "    plt.title(f\"\"\"Start Bin Histogram for {station_map[station_id].get(\"station_name\")}\"\"\")\n",
    "    plt.xlabel('Start Interval of Trip')\n",
    "    plt.ylabel('Count')\n",
    "\n",
    "    # Histogram for end bin (2nd column)\n",
    "    plt.subplot(3, 2, 2*i + 2)  # 3 rows, 2 columns, subplot index for end bin\n",
    "    plt.hist(df_stations[mask_end].end_bin, bins=288, color='green')\n",
    "    plt.title(f\"\"\"End Bin Histogram for {station_map[station_id].get(\"station_name\")}\"\"\")\n",
    "    plt.xlabel('End Interval of Trip')\n",
    "    plt.ylabel('Count')\n",
    "\n",
    "plt.tight_layout()  # Adjust layout\n",
    "plt.show()"
   ]
  },
  {
   "cell_type": "markdown",
   "id": "5c42d264-4bc4-4183-9825-36d7ea37bef8",
   "metadata": {
    "tags": []
   },
   "source": [
    "## Split Morning and Evening\n",
    "- Morning: 78 - 150 (6:30am - 12:30pm)\n",
    "- Evening: 192 - 264 (4:00pm - 10:00pm)"
   ]
  },
  {
   "cell_type": "code",
   "execution_count": 86,
   "id": "e3f8f1cf-1a69-40f7-a08e-6212c0e20949",
   "metadata": {
    "tags": []
   },
   "outputs": [],
   "source": [
    "mask_morning_st = (78 <= df_stations.start_bin) & (df_stations.start_bin <= 150) & (df_stations.start_station_id.isin(station_ids))\n",
    "mask_morning_end = (78 <= df_stations.end_bin) & (df_stations.end_bin <= 150) & (df_stations.end_station_id.isin(station_ids))\n",
    "\n",
    "mask_evening_st = (192 <= df_stations.start_bin) & (df_stations.start_bin <= 264) & (df_stations.start_station_id.isin(station_ids))\n",
    "mask_evening_end = (192 <= df_stations.end_bin) & (df_stations.end_bin <= 264) & (df_stations.end_station_id.isin(station_ids))\n",
    "\n",
    "df_stations_morn = df_stations[mask_morning_st | mask_morning_end]\n",
    "df_stations_even = df_stations[mask_evening_st | mask_evening_end]"
   ]
  },
  {
   "cell_type": "code",
   "execution_count": 87,
   "id": "53f56698-af45-4036-84d9-109e28935159",
   "metadata": {
    "ExecuteTime": {
     "end_time": "2023-11-14T19:52:29.086537Z",
     "start_time": "2023-11-14T19:52:29.011012Z"
    },
    "tags": []
   },
   "outputs": [
    {
     "name": "stderr",
     "output_type": "stream",
     "text": [
      "C:\\Users\\User\\AppData\\Local\\Temp\\ipykernel_11720\\2866090712.py:3: UserWarning: Boolean Series key will be reindexed to match DataFrame index.\n",
      "  df_s1_m = df_stations_morn[mask_1_st | mask_1_end]\n",
      "C:\\Users\\User\\AppData\\Local\\Temp\\ipykernel_11720\\2866090712.py:4: UserWarning: Boolean Series key will be reindexed to match DataFrame index.\n",
      "  df_s1_e = df_stations_even[mask_1_st | mask_1_end]\n"
     ]
    }
   ],
   "source": [
    "mask_1_st = (df_stations.start_station_id == station_1_id)\n",
    "mask_1_end = (df_stations.end_station_id == station_1_id)\n",
    "df_s1_m = df_stations_morn[mask_1_st | mask_1_end]\n",
    "df_s1_e = df_stations_even[mask_1_st | mask_1_end]"
   ]
  },
  {
   "cell_type": "code",
   "execution_count": 89,
   "id": "eef59215-cc2f-4b48-bff6-89c1680f793d",
   "metadata": {
    "ExecuteTime": {
     "end_time": "2023-11-14T19:42:25.661480Z",
     "start_time": "2023-11-14T19:42:25.653153Z"
    },
    "tags": []
   },
   "outputs": [
    {
     "name": "stdout",
     "output_type": "stream",
     "text": [
      "Morning points: 4442 ; Evening Points: 6644\n"
     ]
    }
   ],
   "source": [
    "print(f\"Morning points: {len(df_s1_m)} ; Evening Points: {len(df_s1_e)}\")"
   ]
  },
  {
   "cell_type": "code",
   "execution_count": 100,
   "id": "8afbddcb-4c52-4956-b4f5-2e432f2e364c",
   "metadata": {
    "tags": []
   },
   "outputs": [
    {
     "data": {
      "text/plain": [
       "2413"
      ]
     },
     "execution_count": 100,
     "metadata": {},
     "output_type": "execute_result"
    }
   ],
   "source": [
    "(df_s1_m.end_station_id == station_1_id).sum()"
   ]
  },
  {
   "cell_type": "code",
   "execution_count": 90,
   "id": "f91ac447-2141-48d2-88b3-abcd84c8fd9a",
   "metadata": {
    "ExecuteTime": {
     "end_time": "2023-11-14T19:42:26.717463Z",
     "start_time": "2023-11-14T19:42:26.548029Z"
    },
    "tags": []
   },
   "outputs": [
    {
     "name": "stderr",
     "output_type": "stream",
     "text": [
      "C:\\Users\\User\\AppData\\Local\\Temp\\ipykernel_11720\\69442206.py:3: UserWarning: Boolean Series key will be reindexed to match DataFrame index.\n",
      "  df_s2_m = df_stations_morn[mask_2_st | mask_2_end]\n",
      "C:\\Users\\User\\AppData\\Local\\Temp\\ipykernel_11720\\69442206.py:4: UserWarning: Boolean Series key will be reindexed to match DataFrame index.\n",
      "  df_s2_e = df_stations_even[mask_2_st | mask_2_end]\n"
     ]
    }
   ],
   "source": [
    "mask_2_st = (df_stations.start_station_id == station_2_id)\n",
    "mask_2_end = (df_stations.end_station_id == station_2_id)\n",
    "df_s2_m = df_stations_morn[mask_2_st | mask_2_end]\n",
    "df_s2_e = df_stations_even[mask_2_st | mask_2_end]"
   ]
  },
  {
   "cell_type": "code",
   "execution_count": 91,
   "id": "72a45a85-b3bd-4a1d-adb8-db529faa3880",
   "metadata": {
    "ExecuteTime": {
     "end_time": "2023-11-14T19:42:26.866489Z",
     "start_time": "2023-11-14T19:42:26.832899Z"
    },
    "tags": []
   },
   "outputs": [
    {
     "name": "stdout",
     "output_type": "stream",
     "text": [
      "Morning points: 3292 ; Evening Points: 6119\n"
     ]
    }
   ],
   "source": [
    "print(f\"Morning points: {len(df_s2_m)} ; Evening Points: {len(df_s2_e)}\")"
   ]
  },
  {
   "cell_type": "code",
   "execution_count": 92,
   "id": "a521b261-f0dc-4d09-8338-4397bffddb0a",
   "metadata": {
    "ExecuteTime": {
     "end_time": "2023-11-14T19:42:27.189662Z",
     "start_time": "2023-11-14T19:42:27.152199Z"
    },
    "tags": []
   },
   "outputs": [
    {
     "name": "stderr",
     "output_type": "stream",
     "text": [
      "C:\\Users\\User\\AppData\\Local\\Temp\\ipykernel_11720\\2107300157.py:3: UserWarning: Boolean Series key will be reindexed to match DataFrame index.\n",
      "  df_s3_m = df_stations_morn[mask_3_st | mask_3_end]\n",
      "C:\\Users\\User\\AppData\\Local\\Temp\\ipykernel_11720\\2107300157.py:4: UserWarning: Boolean Series key will be reindexed to match DataFrame index.\n",
      "  df_s3_e = df_stations_even[mask_3_st | mask_3_end]\n"
     ]
    }
   ],
   "source": [
    "mask_3_st = (df_stations.start_station_id == station_3_id)\n",
    "mask_3_end = (df_stations.end_station_id == station_3_id)\n",
    "df_s3_m = df_stations_morn[mask_3_st | mask_3_end]\n",
    "df_s3_e = df_stations_even[mask_3_st | mask_3_end]"
   ]
  },
  {
   "cell_type": "code",
   "execution_count": 93,
   "id": "1b4d8e4d-2a47-4808-be9f-5d66844f857e",
   "metadata": {
    "ExecuteTime": {
     "end_time": "2023-11-14T19:42:27.889935Z",
     "start_time": "2023-11-14T19:42:27.859376Z"
    },
    "tags": []
   },
   "outputs": [
    {
     "name": "stdout",
     "output_type": "stream",
     "text": [
      "Morning points: 2724 ; Evening Points: 5773\n"
     ]
    }
   ],
   "source": [
    "print(f\"Morning points: {len(df_s3_m)} ; Evening Points: {len(df_s3_e)}\")"
   ]
  },
  {
   "cell_type": "markdown",
   "id": "a6187f37-8e63-4b42-855e-9dc821399994",
   "metadata": {},
   "source": []
  },
  {
   "cell_type": "markdown",
   "id": "38002f7c-4b6f-4d95-8c36-4c755ae2d38c",
   "metadata": {},
   "source": []
  },
  {
   "cell_type": "code",
   "execution_count": null,
   "id": "b07c9f03-754e-4f9c-9dd7-adf3a89c4202",
   "metadata": {},
   "outputs": [],
   "source": []
  }
 ],
 "metadata": {
  "kernelspec": {
   "display_name": "Python 3 (ipykernel)",
   "language": "python",
   "name": "python3"
  },
  "language_info": {
   "codemirror_mode": {
    "name": "ipython",
    "version": 3
   },
   "file_extension": ".py",
   "mimetype": "text/x-python",
   "name": "python",
   "nbconvert_exporter": "python",
   "pygments_lexer": "ipython3",
   "version": "3.11.4"
  }
 },
 "nbformat": 4,
 "nbformat_minor": 5
}
