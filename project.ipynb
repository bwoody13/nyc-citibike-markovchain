{
 "cells": [
  {
   "cell_type": "code",
   "execution_count": 1,
   "id": "6422f332-8dae-470f-bf96-0da809ccc37b",
   "metadata": {
    "tags": []
   },
   "outputs": [],
   "source": [
    "import pandas as pd\n",
    "import seaborn as sns\n",
    "import matplotlib.pyplot as plt\n",
    "import numpy as np"
   ]
  },
  {
   "cell_type": "markdown",
   "id": "c5bb4136-b8c1-45b8-a639-5c7c89db436c",
   "metadata": {},
   "source": [
    "# Warm-up"
   ]
  },
  {
   "cell_type": "code",
   "execution_count": 20,
   "id": "b002eb2d-6d7f-4850-9027-f352f88419ef",
   "metadata": {
    "tags": []
   },
   "outputs": [
    {
     "name": "stderr",
     "output_type": "stream",
     "text": [
      "C:\\Users\\User\\AppData\\Local\\Temp\\ipykernel_6092\\2232755120.py:1: DtypeWarning: Columns (5,7) have mixed types. Specify dtype option on import or set low_memory=False.\n",
      "  df_citibike = pd.read_csv(\"202307-citibike-tripdata.csv\")\n"
     ]
    }
   ],
   "source": [
    "df_citibike = pd.read_csv(\"202307-citibike-tripdata.csv\")"
   ]
  },
  {
   "cell_type": "code",
   "execution_count": 23,
   "id": "8e8e351f-0886-43f4-a714-8817c66df4e3",
   "metadata": {
    "tags": []
   },
   "outputs": [],
   "source": [
    "df_citibike.started_at = pd.to_datetime(df_citibike.started_at)\n",
    "df_citibike.ended_at = pd.to_datetime(df_citibike.ended_at)"
   ]
  },
  {
   "cell_type": "code",
   "execution_count": 24,
   "id": "b3be0e05-f475-46ec-9e8b-8daf0ff07931",
   "metadata": {
    "tags": []
   },
   "outputs": [
    {
     "data": {
      "text/html": [
       "<div>\n",
       "<style scoped>\n",
       "    .dataframe tbody tr th:only-of-type {\n",
       "        vertical-align: middle;\n",
       "    }\n",
       "\n",
       "    .dataframe tbody tr th {\n",
       "        vertical-align: top;\n",
       "    }\n",
       "\n",
       "    .dataframe thead th {\n",
       "        text-align: right;\n",
       "    }\n",
       "</style>\n",
       "<table border=\"1\" class=\"dataframe\">\n",
       "  <thead>\n",
       "    <tr style=\"text-align: right;\">\n",
       "      <th></th>\n",
       "      <th>ride_id</th>\n",
       "      <th>rideable_type</th>\n",
       "      <th>started_at</th>\n",
       "      <th>ended_at</th>\n",
       "      <th>start_station_name</th>\n",
       "      <th>start_station_id</th>\n",
       "      <th>end_station_name</th>\n",
       "      <th>end_station_id</th>\n",
       "      <th>start_lat</th>\n",
       "      <th>start_lng</th>\n",
       "      <th>end_lat</th>\n",
       "      <th>end_lng</th>\n",
       "      <th>member_casual</th>\n",
       "    </tr>\n",
       "  </thead>\n",
       "  <tbody>\n",
       "    <tr>\n",
       "      <th>0</th>\n",
       "      <td>BC78328130CD8A16</td>\n",
       "      <td>classic_bike</td>\n",
       "      <td>2023-07-16 20:42:57</td>\n",
       "      <td>2023-07-16 20:45:13</td>\n",
       "      <td>St. Nicholas Ave &amp; W 126 St</td>\n",
       "      <td>7756.10</td>\n",
       "      <td>Adam Clayton Powell Blvd &amp; W 126 St</td>\n",
       "      <td>7738.04</td>\n",
       "      <td>40.811432</td>\n",
       "      <td>-73.951878</td>\n",
       "      <td>40.809495</td>\n",
       "      <td>-73.947765</td>\n",
       "      <td>member</td>\n",
       "    </tr>\n",
       "    <tr>\n",
       "      <th>1</th>\n",
       "      <td>71A4DFA231ADAEA2</td>\n",
       "      <td>classic_bike</td>\n",
       "      <td>2023-07-29 12:22:21</td>\n",
       "      <td>2023-07-29 12:26:54</td>\n",
       "      <td>Adam Clayton Powell Blvd &amp; W 118 St</td>\n",
       "      <td>7670.09</td>\n",
       "      <td>Adam Clayton Powell Blvd &amp; W 126 St</td>\n",
       "      <td>7738.04</td>\n",
       "      <td>40.804372</td>\n",
       "      <td>-73.951475</td>\n",
       "      <td>40.809495</td>\n",
       "      <td>-73.947765</td>\n",
       "      <td>member</td>\n",
       "    </tr>\n",
       "    <tr>\n",
       "      <th>2</th>\n",
       "      <td>B64451D0D9F52134</td>\n",
       "      <td>classic_bike</td>\n",
       "      <td>2023-07-30 18:30:18</td>\n",
       "      <td>2023-07-30 18:35:42</td>\n",
       "      <td>St. Nicholas Ave &amp; W 126 St</td>\n",
       "      <td>7756.10</td>\n",
       "      <td>Lenox Ave &amp; W 130 St</td>\n",
       "      <td>7753.13</td>\n",
       "      <td>40.811378</td>\n",
       "      <td>-73.951827</td>\n",
       "      <td>40.810792</td>\n",
       "      <td>-73.943068</td>\n",
       "      <td>member</td>\n",
       "    </tr>\n",
       "    <tr>\n",
       "      <th>3</th>\n",
       "      <td>EEECB3E0E05EB0DB</td>\n",
       "      <td>classic_bike</td>\n",
       "      <td>2023-07-04 19:59:20</td>\n",
       "      <td>2023-07-04 20:02:03</td>\n",
       "      <td>St. Nicholas Ave &amp; W 126 St</td>\n",
       "      <td>7756.10</td>\n",
       "      <td>Adam Clayton Powell Blvd &amp; W 126 St</td>\n",
       "      <td>7738.04</td>\n",
       "      <td>40.811432</td>\n",
       "      <td>-73.951878</td>\n",
       "      <td>40.809495</td>\n",
       "      <td>-73.947765</td>\n",
       "      <td>member</td>\n",
       "    </tr>\n",
       "    <tr>\n",
       "      <th>4</th>\n",
       "      <td>76B706DF4FC180DC</td>\n",
       "      <td>classic_bike</td>\n",
       "      <td>2023-07-03 19:33:36</td>\n",
       "      <td>2023-07-03 19:43:59</td>\n",
       "      <td>St. Nicholas Ave &amp; W 126 St</td>\n",
       "      <td>7756.10</td>\n",
       "      <td>Pleasant Ave &amp; E 116 St</td>\n",
       "      <td>7450.05</td>\n",
       "      <td>40.811543</td>\n",
       "      <td>-73.951813</td>\n",
       "      <td>40.794988</td>\n",
       "      <td>-73.933335</td>\n",
       "      <td>member</td>\n",
       "    </tr>\n",
       "  </tbody>\n",
       "</table>\n",
       "</div>"
      ],
      "text/plain": [
       "            ride_id rideable_type          started_at            ended_at  \\\n",
       "0  BC78328130CD8A16  classic_bike 2023-07-16 20:42:57 2023-07-16 20:45:13   \n",
       "1  71A4DFA231ADAEA2  classic_bike 2023-07-29 12:22:21 2023-07-29 12:26:54   \n",
       "2  B64451D0D9F52134  classic_bike 2023-07-30 18:30:18 2023-07-30 18:35:42   \n",
       "3  EEECB3E0E05EB0DB  classic_bike 2023-07-04 19:59:20 2023-07-04 20:02:03   \n",
       "4  76B706DF4FC180DC  classic_bike 2023-07-03 19:33:36 2023-07-03 19:43:59   \n",
       "\n",
       "                    start_station_name start_station_id  \\\n",
       "0          St. Nicholas Ave & W 126 St          7756.10   \n",
       "1  Adam Clayton Powell Blvd & W 118 St          7670.09   \n",
       "2          St. Nicholas Ave & W 126 St          7756.10   \n",
       "3          St. Nicholas Ave & W 126 St          7756.10   \n",
       "4          St. Nicholas Ave & W 126 St          7756.10   \n",
       "\n",
       "                      end_station_name end_station_id  start_lat  start_lng  \\\n",
       "0  Adam Clayton Powell Blvd & W 126 St        7738.04  40.811432 -73.951878   \n",
       "1  Adam Clayton Powell Blvd & W 126 St        7738.04  40.804372 -73.951475   \n",
       "2                 Lenox Ave & W 130 St        7753.13  40.811378 -73.951827   \n",
       "3  Adam Clayton Powell Blvd & W 126 St        7738.04  40.811432 -73.951878   \n",
       "4              Pleasant Ave & E 116 St        7450.05  40.811543 -73.951813   \n",
       "\n",
       "     end_lat    end_lng member_casual  \n",
       "0  40.809495 -73.947765        member  \n",
       "1  40.809495 -73.947765        member  \n",
       "2  40.810792 -73.943068        member  \n",
       "3  40.809495 -73.947765        member  \n",
       "4  40.794988 -73.933335        member  "
      ]
     },
     "execution_count": 24,
     "metadata": {},
     "output_type": "execute_result"
    }
   ],
   "source": [
    "df_citibike.head()"
   ]
  },
  {
   "cell_type": "code",
   "execution_count": 25,
   "id": "e6e7866e-c481-497a-ae45-2420c825f427",
   "metadata": {
    "tags": []
   },
   "outputs": [
    {
     "name": "stdout",
     "output_type": "stream",
     "text": [
      "<class 'pandas.core.frame.DataFrame'>\n",
      "RangeIndex: 3776256 entries, 0 to 3776255\n",
      "Data columns (total 13 columns):\n",
      " #   Column              Dtype         \n",
      "---  ------              -----         \n",
      " 0   ride_id             object        \n",
      " 1   rideable_type       object        \n",
      " 2   started_at          datetime64[ns]\n",
      " 3   ended_at            datetime64[ns]\n",
      " 4   start_station_name  object        \n",
      " 5   start_station_id    object        \n",
      " 6   end_station_name    object        \n",
      " 7   end_station_id      object        \n",
      " 8   start_lat           float64       \n",
      " 9   start_lng           float64       \n",
      " 10  end_lat             float64       \n",
      " 11  end_lng             float64       \n",
      " 12  member_casual       object        \n",
      "dtypes: datetime64[ns](2), float64(4), object(7)\n",
      "memory usage: 374.5+ MB\n"
     ]
    }
   ],
   "source": [
    "df_citibike.info()"
   ]
  },
  {
   "cell_type": "code",
   "execution_count": 26,
   "id": "c4261490-fbf8-4be5-a1f0-2d1bc930ce25",
   "metadata": {
    "tags": []
   },
   "outputs": [],
   "source": [
    "df_citibike = df_citibike.dropna()"
   ]
  },
  {
   "cell_type": "code",
   "execution_count": 27,
   "id": "1c70f423-8703-45b8-87bb-12e99a60185e",
   "metadata": {
    "tags": []
   },
   "outputs": [],
   "source": [
    "df_citibike[\"duration\"] = (df_citibike.ended_at - df_citibike.started_at).dt.total_seconds() / 60"
   ]
  },
  {
   "cell_type": "code",
   "execution_count": 28,
   "id": "0a861022-78ff-4c96-8a06-4a79ffac2abf",
   "metadata": {
    "tags": []
   },
   "outputs": [
    {
     "data": {
      "text/plain": [
       "0           2.266667\n",
       "1           4.550000\n",
       "2           5.400000\n",
       "3           2.716667\n",
       "4          10.383333\n",
       "             ...    \n",
       "3776251    26.650000\n",
       "3776252    28.316667\n",
       "3776253     4.450000\n",
       "3776254    10.683333\n",
       "3776255     2.566667\n",
       "Name: duration, Length: 3767347, dtype: float64"
      ]
     },
     "execution_count": 28,
     "metadata": {},
     "output_type": "execute_result"
    }
   ],
   "source": [
    "df_citibike.duration"
   ]
  },
  {
   "cell_type": "code",
   "execution_count": 29,
   "id": "66a90158-5dd3-45fd-b706-f1782d195896",
   "metadata": {
    "tags": []
   },
   "outputs": [],
   "source": [
    "df_citibike = df_citibike[df_citibike.duration < 60*3]\n",
    "df_citibike = df_citibike[df_citibike.duration > 0]"
   ]
  },
  {
   "cell_type": "markdown",
   "id": "ad45c3cf-2544-4955-a810-c26153f7785f",
   "metadata": {},
   "source": [
    "## Duration Histogram"
   ]
  },
  {
   "cell_type": "code",
   "execution_count": 40,
   "id": "8d8aef2d-13e2-4a3e-975a-bf6d6e7a14a2",
   "metadata": {
    "tags": []
   },
   "outputs": [
    {
     "data": {
      "image/png": "[encoded data removed]",
      "text/plain": [
       "<Figure size 640x480 with 1 Axes>"
      ]
     },
     "metadata": {},
     "output_type": "display_data"
    }
   ],
   "source": [
    "plt.hist(df_citibike.duration, bins=3*60)\n",
    "plt.title(\"Hist of Trip Duration\")\n",
    "plt.xlabel(\"Duration of Trip\")\n",
    "plt.ylabel(\"Number of Trips\")\n",
    "plt.show()"
   ]
  },
  {
   "cell_type": "markdown",
   "id": "ce86b889-e494-45a6-958e-efc2c25a2389",
   "metadata": {},
   "source": [
    "## Average Ride Duration, Variance, and $\\mathbb{P}$(Duration $>$ 20)"
   ]
  },
  {
   "cell_type": "code",
   "execution_count": 31,
   "id": "c59f0a5e-224b-4d17-861f-96b94fd9dd38",
   "metadata": {
    "tags": []
   },
   "outputs": [],
   "source": [
    "total = len(df_citibike)"
   ]
  },
  {
   "cell_type": "code",
   "execution_count": 32,
   "id": "a07f7980-0acd-45a6-8236-21c0846bf3d6",
   "metadata": {
    "tags": []
   },
   "outputs": [
    {
     "name": "stdout",
     "output_type": "stream",
     "text": [
      "Average Duration = 13.560221346513465\n"
     ]
    }
   ],
   "source": [
    "avg_dur = df_citibike.duration.mean()\n",
    "print(f\"Average Duration = {avg_dur}\")"
   ]
  },
  {
   "cell_type": "code",
   "execution_count": 33,
   "id": "88451aed-e654-4bea-be0c-dd8ddb2b36da",
   "metadata": {
    "tags": []
   },
   "outputs": [
    {
     "name": "stdout",
     "output_type": "stream",
     "text": [
      "Varianve of Duration = 196.69836284899702\n"
     ]
    }
   ],
   "source": [
    "var_dur = df_citibike.duration.var()\n",
    "print(f\"Varianve of Duration = {var_dur}\")"
   ]
  },
  {
   "cell_type": "code",
   "execution_count": 34,
   "id": "fcb6b9b0-3ce2-4103-9529-296b11752642",
   "metadata": {
    "tags": []
   },
   "outputs": [
    {
     "name": "stdout",
     "output_type": "stream",
     "text": [
      "P(duration > 20) = 0.19654085290380166\n"
     ]
    }
   ],
   "source": [
    "gt_20 = (df_citibike.duration > 20).sum()\n",
    "p_dur_20 = gt_20 / total\n",
    "print(f\"P(duration > 20) = {p_dur_20}\")"
   ]
  },
  {
   "cell_type": "markdown",
   "id": "884dc31d-f485-49ba-b4a4-4fe3de9093ae",
   "metadata": {},
   "source": [
    "## $\\mathbb{P}$(Duration > 20 | CitiBike Memeber)"
   ]
  },
  {
   "cell_type": "code",
   "execution_count": 35,
   "id": "ae4bd8ff-982b-40f5-b032-98c86aa1dd7b",
   "metadata": {
    "tags": []
   },
   "outputs": [
    {
     "name": "stdout",
     "output_type": "stream",
     "text": [
      "P(duration > 20 | CitiBike Member) = 0.1546848321918055\n"
     ]
    }
   ],
   "source": [
    "p_citibike_mem = (df_citibike.member_casual == \"member\").sum() / total\n",
    "p_cbmem_and_dur20 = ((df_citibike.member_casual == \"member\") & (df_citibike.duration > 20)).sum() / total\n",
    "p_dur20_given_citibike_mem = p_cbmem_and_dur20 / p_citibike_mem\n",
    "print(f\"P(duration > 20 | CitiBike Member) = {p_dur20_given_citibike_mem}\")"
   ]
  },
  {
   "cell_type": "markdown",
   "id": "fc0ef95e-7c60-43f4-9b3b-398770a2cdcc",
   "metadata": {},
   "source": [
    "## $\\mathbb{P}$(CitiBike Member | Duration > 25)"
   ]
  },
  {
   "cell_type": "code",
   "execution_count": 41,
   "id": "b0b7f9f2-80bb-4554-a94c-6cba7d98364a",
   "metadata": {
    "tags": []
   },
   "outputs": [
    {
     "name": "stdout",
     "output_type": "stream",
     "text": [
      "P(CitiBike Member | duration > 25) = 0.5787196676877677\n"
     ]
    }
   ],
   "source": [
    "p_dur_25 = (df_citibike.duration > 25).sum() / total\n",
    "p_cbmem_and_dur25 = ((df_citibike.member_casual == \"member\") & (df_citibike.duration > 25)).sum() / total\n",
    "p_dur25_given_citibike_mem = p_cbmem_and_dur25 / p_dur_25\n",
    "print(f\"P(CitiBike Member | duration > 25) = {p_dur25_given_citibike_mem}\")"
   ]
  },
  {
   "cell_type": "markdown",
   "id": "2ef6fe8d-2f46-422d-ae97-a33afd4e7a97",
   "metadata": {},
   "source": [
    "## Expected duration of Electric Bike vs. Classic Bike"
   ]
  },
  {
   "cell_type": "code",
   "execution_count": 37,
   "id": "6a1f497d-10b0-411e-a75e-2fad449f8daa",
   "metadata": {
    "tags": []
   },
   "outputs": [],
   "source": [
    "df_elecbike = df_citibike[df_citibike.rideable_type == \"electric_bike\"]\n",
    "df_clasbike = df_citibike[df_citibike.rideable_type == \"classic_bike\"]"
   ]
  },
  {
   "cell_type": "code",
   "execution_count": 38,
   "id": "2bb92e27-9ce1-411d-9717-b131a95538e1",
   "metadata": {
    "tags": []
   },
   "outputs": [
    {
     "name": "stdout",
     "output_type": "stream",
     "text": [
      "Expected Duration: ebike=12.280488130239785 ; classic-bike=13.63475766258535\n"
     ]
    }
   ],
   "source": [
    "avg_dur_eb = df_elecbike.duration.mean()\n",
    "avg_dur_cb = df_clasbike.duration.mean()\n",
    "print(f\"Expected Duration: ebike={avg_dur_eb} ; classic-bike={avg_dur_cb}\")"
   ]
  },
  {
   "cell_type": "markdown",
   "id": "c90ac13b-37d1-48db-8599-b8e8969a494e",
   "metadata": {},
   "source": [
    "## $\\mathbb{P}$(Electric Bike | Duration < 10) and $\\mathbb{P}$(Classic Bike | Duration < 10)"
   ]
  },
  {
   "cell_type": "code",
   "execution_count": 39,
   "id": "0c7d4ede-4725-4d97-a06b-c2d98a693b1c",
   "metadata": {
    "tags": []
   },
   "outputs": [
    {
     "name": "stdout",
     "output_type": "stream",
     "text": [
      "P(E-bike | duration < 10)=0.08921668362156664\n",
      "P(classic-bike | duration < 10)=0.9101774950274062\n"
     ]
    }
   ],
   "source": [
    "p_d10 = (df_citibike.duration < 10).sum() / total\n",
    "p_eb_and_d10 = ((df_citibike.rideable_type == \"electric_bike\") & (df_citibike.duration < 10)).sum() / total\n",
    "p_cb_and_d10 = ((df_citibike.rideable_type == \"classic_bike\") & (df_citibike.duration < 10)).sum() / total\n",
    "p_eb_given_d10 = p_eb_and_d10 / p_d10\n",
    "p_cb_given_d10 = p_cb_and_d10 / p_d10\n",
    "print(f\"P(E-bike | duration < 10)={p_eb_given_d10}\\nP(classic-bike | duration < 10)={p_cb_given_d10}\")"
   ]
  },
  {
   "cell_type": "code",
   "execution_count": null,
   "id": "e4157bbc-b304-495a-a4ab-90e614618bb0",
   "metadata": {},
   "outputs": [],
   "source": []
  },
  {
   "cell_type": "code",
   "execution_count": 47,
   "id": "3b8e8f83-9116-42d7-bb50-ad489de05d60",
   "metadata": {
    "tags": []
   },
   "outputs": [],
   "source": [
    "df_start = df_citibike.groupby([\"start_station_id\", \"start_station_name\"]).ride_id.count().sort_values(ascending=False)"
   ]
  },
  {
   "cell_type": "code",
   "execution_count": 53,
   "id": "25587ca9-2a20-4c63-91f3-e85c7d5a3939",
   "metadata": {
    "tags": []
   },
   "outputs": [
    {
     "data": {
      "text/plain": [
       "start_station_id  start_station_name         \n",
       "6140.05           W 21 St & 6 Ave                12453\n",
       "5329.03           West St & Chambers St          12361\n",
       "6948.10           Broadway & W 58 St             11097\n",
       "6726.01           11 Ave & W 41 St               10559\n",
       "6364.07           6 Ave & W 33 St                10130\n",
       "6765.01           12 Ave & W 40 St               10015\n",
       "6157.04           10 Ave & W 14 St                9999\n",
       "5184.08           West St & Liberty St            9752\n",
       "5905.14           University Pl & E 14 St         9682\n",
       "6912.01           7 Ave & Central Park South      9656\n",
       "6822.09           1 Ave & E 68 St                 9631\n",
       "5980.07           E 17 St & Broadway              9308\n",
       "6173.08           Broadway & W 25 St              8960\n",
       "6459.07           W 30 St & 10 Ave                8929\n",
       "5696.03           Pier 40 - Hudson River Park     8904\n",
       "5905.12           Broadway & E 14 St              8686\n",
       "5492.05           Cleveland Pl & Spring St        8682\n",
       "6331.01           W 31 St & 7 Ave                 8632\n",
       "6197.08           E 33 St & 1 Ave                 8573\n",
       "6450.12           8 Ave & W 33 St                 8553\n",
       "6072.11           8 Ave & W 16 St                 8157\n",
       "6535.04           W 34 St & Hudson Blvd E         8116\n",
       "5779.11           Ave A & E 14 St                 8112\n",
       "5303.08           Canal St & Rutgers St           8086\n",
       "6432.11           E 40 St & Park Ave              8059\n",
       "Name: ride_id, dtype: int64"
      ]
     },
     "execution_count": 53,
     "metadata": {},
     "output_type": "execute_result"
    }
   ],
   "source": [
    "df_start.head(25)"
   ]
  },
  {
   "cell_type": "code",
   "execution_count": 51,
   "id": "c19070b9-7dd4-4b94-ab79-d2bfd6622e91",
   "metadata": {
    "tags": []
   },
   "outputs": [],
   "source": [
    "df_end = df_citibike.groupby([\"end_station_id\", \"end_station_name\"]).ride_id.count().sort_values(ascending=False)"
   ]
  },
  {
   "cell_type": "code",
   "execution_count": 54,
   "id": "a8376a39-2f9f-469e-885e-66e9c991e70a",
   "metadata": {
    "tags": []
   },
   "outputs": [
    {
     "data": {
      "text/plain": [
       "end_station_id  end_station_name           \n",
       "6140.05         W 21 St & 6 Ave                13658\n",
       "6948.10         Broadway & W 58 St             12028\n",
       "6726.01         11 Ave & W 41 St               11967\n",
       "6912.01         7 Ave & Central Park South     11391\n",
       "6364.07         6 Ave & W 33 St                11091\n",
       "6765.01         12 Ave & W 40 St               10899\n",
       "5905.14         University Pl & E 14 St        10548\n",
       "6822.09         1 Ave & E 68 St                10403\n",
       "5980.07         E 17 St & Broadway             10242\n",
       "6459.07         W 30 St & 10 Ave               10003\n",
       "5905.12         Broadway & E 14 St              9642\n",
       "5492.05         Cleveland Pl & Spring St        9588\n",
       "6331.01         W 31 St & 7 Ave                 9576\n",
       "6197.08         E 33 St & 1 Ave                 9527\n",
       "6535.04         W 34 St & Hudson Blvd E         9090\n",
       "6450.12         8 Ave & W 33 St                 9079\n",
       "5696.03         Pier 40 - Hudson River Park     8995\n",
       "5788.13         Lafayette St & E 8 St           8929\n",
       "6432.11         E 40 St & Park Ave              8853\n",
       "5779.11         Ave A & E 14 St                 8784\n",
       "5303.08         Canal St & Rutgers St           8765\n",
       "6526.05         8 Ave & W 38 St                 8726\n",
       "6266.06         9 Ave & W 22 St                 8682\n",
       "5184.08         West St & Liberty St            8628\n",
       "6072.11         8 Ave & W 16 St                 8607\n",
       "Name: ride_id, dtype: int64"
      ]
     },
     "execution_count": 54,
     "metadata": {},
     "output_type": "execute_result"
    }
   ],
   "source": [
    "df_end.head(25)"
   ]
  },
  {
   "cell_type": "markdown",
   "id": "a7354ccd-51fa-4f3f-836f-7b77c617b050",
   "metadata": {},
   "source": [
    "6948.10           Broadway & W 58 St             11097\n",
    "5184.08           West St & Liberty St            9752\n",
    "5696.03         Pier 40 - Hudson River Park     8995"
   ]
  },
  {
   "cell_type": "code",
   "execution_count": 65,
   "id": "bd95c20b-85b1-452c-b866-28916116728e",
   "metadata": {
    "tags": []
   },
   "outputs": [],
   "source": [
    "station_1_id = \"6948.10\"\n",
    "station_2_id = \"5184.08\"\n",
    "station_3_id = \"5696.03\""
   ]
  },
  {
   "cell_type": "code",
   "execution_count": 68,
   "id": "fa69c82c-cc71-48c7-876f-ab362dbc0f5d",
   "metadata": {
    "tags": []
   },
   "outputs": [],
   "source": [
    "mask_1_st = (df_citibike.start_station_id == station_1_id)\n",
    "mask_1_end = (df_citibike.end_station_id == station_1_id)\n",
    "df_s1 = df_citibike[mask_1_st | mask_1_end]"
   ]
  },
  {
   "cell_type": "code",
   "execution_count": 69,
   "id": "253e7075-8957-4c81-8309-f990b515cfc6",
   "metadata": {
    "tags": []
   },
   "outputs": [
    {
     "data": {
      "text/plain": [
       "22043"
      ]
     },
     "execution_count": 69,
     "metadata": {},
     "output_type": "execute_result"
    }
   ],
   "source": [
    "len(df_s1)"
   ]
  },
  {
   "cell_type": "code",
   "execution_count": 70,
   "id": "9de348a1-831b-4459-88fd-7ef8cfbd966d",
   "metadata": {
    "tags": []
   },
   "outputs": [],
   "source": [
    "mask_2_st = (df_citibike.start_station_id == station_2_id)\n",
    "mask_2_end = (df_citibike.end_station_id == station_2_id)\n",
    "df_s2 = df_citibike[mask_2_st | mask_2_end]"
   ]
  },
  {
   "cell_type": "code",
   "execution_count": 71,
   "id": "42a4cc81-c2af-428b-9b3d-baf1d947843a",
   "metadata": {
    "tags": []
   },
   "outputs": [
    {
     "data": {
      "text/plain": [
       "17807"
      ]
     },
     "execution_count": 71,
     "metadata": {},
     "output_type": "execute_result"
    }
   ],
   "source": [
    "len(df_s2)"
   ]
  },
  {
   "cell_type": "code",
   "execution_count": 72,
   "id": "87ba2376-b605-44ea-9b12-2c5e0cf13f0e",
   "metadata": {
    "tags": []
   },
   "outputs": [],
   "source": [
    "mask_3_st = (df_citibike.start_station_id == station_3_id)\n",
    "mask_3_end = (df_citibike.end_station_id == station_3_id)\n",
    "df_s3 = df_citibike[mask_3_st | mask_3_end]"
   ]
  },
  {
   "cell_type": "code",
   "execution_count": 73,
   "id": "888904a9-eede-4975-999f-e3dafec20db8",
   "metadata": {
    "tags": []
   },
   "outputs": [
    {
     "data": {
      "text/plain": [
       "17398"
      ]
     },
     "execution_count": 73,
     "metadata": {},
     "output_type": "execute_result"
    }
   ],
   "source": [
    "len(df_s3)"
   ]
  },
  {
   "cell_type": "markdown",
   "id": "614a9b46-9403-48a1-9627-458718dfeb4c",
   "metadata": {},
   "source": [
    "Todo Next:\n",
    "- Remove Weekends\n",
    "- Split morining and evening\n",
    "- Discretize 5 mins\n",
    "- figure out capacity for our stations"
   ]
  },
  {
   "cell_type": "markdown",
   "id": "07af2127-b21d-4a0f-a583-4023afd3337b",
   "metadata": {},
   "source": [
    "Todo after:\n",
    "- Count within each 5 min period diff of arriving and leaving bikes\n",
    "- "
   ]
  }
 ],
 "metadata": {
  "kernelspec": {
   "display_name": "Python 3 (ipykernel)",
   "language": "python",
   "name": "python3"
  },
  "language_info": {
   "codemirror_mode": {
    "name": "ipython",
    "version": 3
   },
   "file_extension": ".py",
   "mimetype": "text/x-python",
   "name": "python",
   "nbconvert_exporter": "python",
   "pygments_lexer": "ipython3",
   "version": "3.11.4"
  }
 },
 "nbformat": 4,
 "nbformat_minor": 5
}
