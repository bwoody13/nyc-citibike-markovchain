{
 "cells": [
  {
   "cell_type": "code",
   "execution_count": 1,
   "id": "6422f332-8dae-470f-bf96-0da809ccc37b",
   "metadata": {
    "tags": []
   },
   "outputs": [],
   "source": [
    "import pandas as pd\n",
    "import seaborn as sns\n",
    "import matplotlib.pyplot as plt\n",
    "import numpy as np"
   ]
  },
  {
   "cell_type": "markdown",
   "id": "c5bb4136-b8c1-45b8-a639-5c7c89db436c",
   "metadata": {},
   "source": [
    "# Warm-up"
   ]
  },
  {
   "cell_type": "code",
   "execution_count": 11,
   "id": "b002eb2d-6d7f-4850-9027-f352f88419ef",
   "metadata": {
    "tags": []
   },
   "outputs": [],
   "source": [
    "df_citibike = pd.read_csv(\"JC-202307-citibike-tripdata.csv\")"
   ]
  },
  {
   "cell_type": "code",
   "execution_count": 12,
   "id": "8e8e351f-0886-43f4-a714-8817c66df4e3",
   "metadata": {
    "tags": []
   },
   "outputs": [],
   "source": [
    "df_citibike.started_at = pd.to_datetime(df_citibike.started_at)\n",
    "df_citibike.ended_at = pd.to_datetime(df_citibike.ended_at)"
   ]
  },
  {
   "cell_type": "code",
   "execution_count": 13,
   "id": "b3be0e05-f475-46ec-9e8b-8daf0ff07931",
   "metadata": {
    "tags": []
   },
   "outputs": [
    {
     "data": {
      "text/html": [
       "<div>\n",
       "<style scoped>\n",
       "    .dataframe tbody tr th:only-of-type {\n",
       "        vertical-align: middle;\n",
       "    }\n",
       "\n",
       "    .dataframe tbody tr th {\n",
       "        vertical-align: top;\n",
       "    }\n",
       "\n",
       "    .dataframe thead th {\n",
       "        text-align: right;\n",
       "    }\n",
       "</style>\n",
       "<table border=\"1\" class=\"dataframe\">\n",
       "  <thead>\n",
       "    <tr style=\"text-align: right;\">\n",
       "      <th></th>\n",
       "      <th>ride_id</th>\n",
       "      <th>rideable_type</th>\n",
       "      <th>started_at</th>\n",
       "      <th>ended_at</th>\n",
       "      <th>start_station_name</th>\n",
       "      <th>start_station_id</th>\n",
       "      <th>end_station_name</th>\n",
       "      <th>end_station_id</th>\n",
       "      <th>start_lat</th>\n",
       "      <th>start_lng</th>\n",
       "      <th>end_lat</th>\n",
       "      <th>end_lng</th>\n",
       "      <th>member_casual</th>\n",
       "    </tr>\n",
       "  </thead>\n",
       "  <tbody>\n",
       "    <tr>\n",
       "      <th>0</th>\n",
       "      <td>7A68381621C25F78</td>\n",
       "      <td>classic_bike</td>\n",
       "      <td>2023-07-17 17:16:34</td>\n",
       "      <td>2023-07-17 17:20:52</td>\n",
       "      <td>Astor Place</td>\n",
       "      <td>JC077</td>\n",
       "      <td>Communipaw &amp; Berry Lane</td>\n",
       "      <td>JC084</td>\n",
       "      <td>40.719225</td>\n",
       "      <td>-74.071281</td>\n",
       "      <td>40.714358</td>\n",
       "      <td>-74.066611</td>\n",
       "      <td>member</td>\n",
       "    </tr>\n",
       "    <tr>\n",
       "      <th>1</th>\n",
       "      <td>0F814CA67B2FA120</td>\n",
       "      <td>classic_bike</td>\n",
       "      <td>2023-07-26 19:40:15</td>\n",
       "      <td>2023-07-26 19:44:37</td>\n",
       "      <td>Adams St &amp; 2 St</td>\n",
       "      <td>HB407</td>\n",
       "      <td>9 St HBLR - Jackson St &amp; 8 St</td>\n",
       "      <td>HB305</td>\n",
       "      <td>40.739727</td>\n",
       "      <td>-74.036866</td>\n",
       "      <td>40.747907</td>\n",
       "      <td>-74.038412</td>\n",
       "      <td>member</td>\n",
       "    </tr>\n",
       "    <tr>\n",
       "      <th>2</th>\n",
       "      <td>775A38967EBF5FB4</td>\n",
       "      <td>electric_bike</td>\n",
       "      <td>2023-07-01 12:12:22</td>\n",
       "      <td>2023-07-01 12:27:45</td>\n",
       "      <td>McGinley Square</td>\n",
       "      <td>JC055</td>\n",
       "      <td>Riverview Park</td>\n",
       "      <td>JC057</td>\n",
       "      <td>40.725340</td>\n",
       "      <td>-74.067622</td>\n",
       "      <td>40.744319</td>\n",
       "      <td>-74.043991</td>\n",
       "      <td>member</td>\n",
       "    </tr>\n",
       "    <tr>\n",
       "      <th>3</th>\n",
       "      <td>D93B742DCE1C1447</td>\n",
       "      <td>classic_bike</td>\n",
       "      <td>2023-07-20 19:10:18</td>\n",
       "      <td>2023-07-20 19:17:22</td>\n",
       "      <td>Baldwin at Montgomery</td>\n",
       "      <td>JC020</td>\n",
       "      <td>Brunswick St</td>\n",
       "      <td>JC023</td>\n",
       "      <td>40.723455</td>\n",
       "      <td>-74.064359</td>\n",
       "      <td>40.724176</td>\n",
       "      <td>-74.050656</td>\n",
       "      <td>member</td>\n",
       "    </tr>\n",
       "    <tr>\n",
       "      <th>4</th>\n",
       "      <td>AA7A6863B4B92169</td>\n",
       "      <td>electric_bike</td>\n",
       "      <td>2023-07-07 19:33:59</td>\n",
       "      <td>2023-07-07 19:58:17</td>\n",
       "      <td>Baldwin at Montgomery</td>\n",
       "      <td>JC020</td>\n",
       "      <td>Mama Johnson Field - 4 St &amp; Jackson St</td>\n",
       "      <td>HB404</td>\n",
       "      <td>40.723659</td>\n",
       "      <td>-74.064194</td>\n",
       "      <td>40.743140</td>\n",
       "      <td>-74.040041</td>\n",
       "      <td>casual</td>\n",
       "    </tr>\n",
       "  </tbody>\n",
       "</table>\n",
       "</div>"
      ],
      "text/plain": [
       "            ride_id  rideable_type          started_at            ended_at  \\\n",
       "0  7A68381621C25F78   classic_bike 2023-07-17 17:16:34 2023-07-17 17:20:52   \n",
       "1  0F814CA67B2FA120   classic_bike 2023-07-26 19:40:15 2023-07-26 19:44:37   \n",
       "2  775A38967EBF5FB4  electric_bike 2023-07-01 12:12:22 2023-07-01 12:27:45   \n",
       "3  D93B742DCE1C1447   classic_bike 2023-07-20 19:10:18 2023-07-20 19:17:22   \n",
       "4  AA7A6863B4B92169  electric_bike 2023-07-07 19:33:59 2023-07-07 19:58:17   \n",
       "\n",
       "      start_station_name start_station_id  \\\n",
       "0            Astor Place            JC077   \n",
       "1        Adams St & 2 St            HB407   \n",
       "2        McGinley Square            JC055   \n",
       "3  Baldwin at Montgomery            JC020   \n",
       "4  Baldwin at Montgomery            JC020   \n",
       "\n",
       "                         end_station_name end_station_id  start_lat  \\\n",
       "0                 Communipaw & Berry Lane          JC084  40.719225   \n",
       "1           9 St HBLR - Jackson St & 8 St          HB305  40.739727   \n",
       "2                          Riverview Park          JC057  40.725340   \n",
       "3                            Brunswick St          JC023  40.723455   \n",
       "4  Mama Johnson Field - 4 St & Jackson St          HB404  40.723659   \n",
       "\n",
       "   start_lng    end_lat    end_lng member_casual  \n",
       "0 -74.071281  40.714358 -74.066611        member  \n",
       "1 -74.036866  40.747907 -74.038412        member  \n",
       "2 -74.067622  40.744319 -74.043991        member  \n",
       "3 -74.064359  40.724176 -74.050656        member  \n",
       "4 -74.064194  40.743140 -74.040041        casual  "
      ]
     },
     "execution_count": 13,
     "metadata": {},
     "output_type": "execute_result"
    }
   ],
   "source": [
    "df_citibike.head()"
   ]
  },
  {
   "cell_type": "code",
   "execution_count": 14,
   "id": "e6e7866e-c481-497a-ae45-2420c825f427",
   "metadata": {
    "tags": []
   },
   "outputs": [
    {
     "name": "stdout",
     "output_type": "stream",
     "text": [
      "<class 'pandas.core.frame.DataFrame'>\n",
      "RangeIndex: 106608 entries, 0 to 106607\n",
      "Data columns (total 13 columns):\n",
      " #   Column              Non-Null Count   Dtype         \n",
      "---  ------              --------------   -----         \n",
      " 0   ride_id             106608 non-null  object        \n",
      " 1   rideable_type       106608 non-null  object        \n",
      " 2   started_at          106608 non-null  datetime64[ns]\n",
      " 3   ended_at            106608 non-null  datetime64[ns]\n",
      " 4   start_station_name  106601 non-null  object        \n",
      " 5   start_station_id    106601 non-null  object        \n",
      " 6   end_station_name    106216 non-null  object        \n",
      " 7   end_station_id      106216 non-null  object        \n",
      " 8   start_lat           106608 non-null  float64       \n",
      " 9   start_lng           106608 non-null  float64       \n",
      " 10  end_lat             106486 non-null  float64       \n",
      " 11  end_lng             106486 non-null  float64       \n",
      " 12  member_casual       106608 non-null  object        \n",
      "dtypes: datetime64[ns](2), float64(4), object(7)\n",
      "memory usage: 10.6+ MB\n"
     ]
    }
   ],
   "source": [
    "df_citibike.info()"
   ]
  },
  {
   "cell_type": "code",
   "execution_count": 21,
   "id": "1c70f423-8703-45b8-87bb-12e99a60185e",
   "metadata": {
    "tags": []
   },
   "outputs": [],
   "source": [
    "df_citibike[\"duration\"] = (df_citibike.ended_at - df_citibike.started_at).dt.total_seconds() / 60"
   ]
  },
  {
   "cell_type": "code",
   "execution_count": 22,
   "id": "0a861022-78ff-4c96-8a06-4a79ffac2abf",
   "metadata": {
    "tags": []
   },
   "outputs": [
    {
     "data": {
      "text/plain": [
       "0          4.300000\n",
       "1          4.366667\n",
       "2         15.383333\n",
       "3          7.066667\n",
       "4         24.300000\n",
       "            ...    \n",
       "106603    12.766667\n",
       "106604     4.000000\n",
       "106605     6.483333\n",
       "106606     8.083333\n",
       "106607    11.283333\n",
       "Name: duration, Length: 106608, dtype: float64"
      ]
     },
     "execution_count": 22,
     "metadata": {},
     "output_type": "execute_result"
    }
   ],
   "source": [
    "df_citibike.duration"
   ]
  },
  {
   "cell_type": "code",
   "execution_count": 23,
   "id": "66a90158-5dd3-45fd-b706-f1782d195896",
   "metadata": {
    "tags": []
   },
   "outputs": [],
   "source": [
    "df_citibike = df_citibike[df_citibike.duration < 60*3]"
   ]
  },
  {
   "cell_type": "markdown",
   "id": "ad45c3cf-2544-4955-a810-c26153f7785f",
   "metadata": {},
   "source": [
    "## Duration Histogram"
   ]
  },
  {
   "cell_type": "code",
   "execution_count": 30,
   "id": "8d8aef2d-13e2-4a3e-975a-bf6d6e7a14a2",
   "metadata": {
    "tags": []
   },
   "outputs": [
    {
     "data": {
      "image/png": "[encoded data removed]",
      "text/plain": [
       "<Figure size 640x480 with 1 Axes>"
      ]
     },
     "metadata": {},
     "output_type": "display_data"
    }
   ],
   "source": [
    "plt.hist(df_citibike.duration, bins=3*60//5)\n",
    "plt.title(\"Hist of Trip Duration\")\n",
    "plt.xlabel(\"Duration of Trip\")\n",
    "plt.ylabel(\"Number of Trips\")\n",
    "plt.show()"
   ]
  },
  {
   "cell_type": "markdown",
   "id": "ce86b889-e494-45a6-958e-efc2c25a2389",
   "metadata": {},
   "source": [
    "## Average Ride Duration, Variance, and $\\mathbb{P}$(Duration $>$ 20)"
   ]
  },
  {
   "cell_type": "code",
   "execution_count": null,
   "id": "a07f7980-0acd-45a6-8236-21c0846bf3d6",
   "metadata": {},
   "outputs": [],
   "source": []
  },
  {
   "cell_type": "markdown",
   "id": "884dc31d-f485-49ba-b4a4-4fe3de9093ae",
   "metadata": {},
   "source": [
    "## $\\mathbb{P}$(Duration > 20 | CitiBike Member)"
   ]
  },
  {
   "cell_type": "code",
   "execution_count": null,
   "id": "ae4bd8ff-982b-40f5-b032-98c86aa1dd7b",
   "metadata": {},
   "outputs": [],
   "source": []
  },
  {
   "cell_type": "markdown",
   "id": "fc0ef95e-7c60-43f4-9b3b-398770a2cdcc",
   "metadata": {},
   "source": [
    "## $\\mathbb{P}$(CitiBike Member | Duration > 25)"
   ]
  },
  {
   "cell_type": "code",
   "execution_count": null,
   "id": "b0b7f9f2-80bb-4554-a94c-6cba7d98364a",
   "metadata": {},
   "outputs": [],
   "source": []
  },
  {
   "cell_type": "markdown",
   "id": "2ef6fe8d-2f46-422d-ae97-a33afd4e7a97",
   "metadata": {},
   "source": [
    "## Expected duration of Electric Bike vs. Classic Bike"
   ]
  },
  {
   "cell_type": "code",
   "execution_count": null,
   "id": "6a1f497d-10b0-411e-a75e-2fad449f8daa",
   "metadata": {},
   "outputs": [],
   "source": []
  },
  {
   "cell_type": "markdown",
   "id": "c90ac13b-37d1-48db-8599-b8e8969a494e",
   "metadata": {},
   "source": [
    "## $\\mathbb{P}$(Electric Bike | Duration < 10) and $\\mathbb{P}$(Classic Bike | Duration < 10)"
   ]
  },
  {
   "cell_type": "code",
   "execution_count": null,
   "id": "0c7d4ede-4725-4d97-a06b-c2d98a693b1c",
   "metadata": {},
   "outputs": [],
   "source": []
  }
 ],
 "metadata": {
  "kernelspec": {
   "display_name": "Python 3 (ipykernel)",
   "language": "python",
   "name": "python3"
  },
  "language_info": {
   "codemirror_mode": {
    "name": "ipython",
    "version": 3
   },
   "file_extension": ".py",
   "mimetype": "text/x-python",
   "name": "python",
   "nbconvert_exporter": "python",
   "pygments_lexer": "ipython3",
   "version": "3.11.4"
  }
 },
 "nbformat": 4,
 "nbformat_minor": 5
}
